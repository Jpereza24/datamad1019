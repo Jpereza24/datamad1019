{
 "cells": [
  {
   "cell_type": "markdown",
   "metadata": {},
   "source": [
    "# Before your start:\n",
    "\n",
    "    Read the README.md file\n",
    "    Comment as much as you can and use the resources (README.md file)\n",
    "    Happy learning!"
   ]
  },
  {
   "cell_type": "markdown",
   "metadata": {},
   "source": [
    "In this exercise, we  will generate random numbers from the continuous disributions we learned in the lesson. There are two ways to generate random numbers:\n",
    "\n",
    "1. Using the numpy library \n",
    "1. using the Scipy library \n",
    "\n",
    "Use either or both of the lbraries in this exercise."
   ]
  },
  {
   "cell_type": "markdown",
   "metadata": {},
   "source": [
    "## Uniform Distribution\n",
    "\n",
    "To generate uniform random numbers between any two given values using scipy, we can either use the following code or the code that we have\n",
    "discussed in class:"
   ]
  },
  {
   "cell_type": "code",
   "execution_count": 31,
   "metadata": {},
   "outputs": [
    {
     "name": "stdout",
     "output_type": "stream",
     "text": [
      "[2.02547487 2.07999132 2.97296348 2.72820292 2.72448335 2.92726282\n",
      " 2.32458001 2.23091151 2.84790778 2.84590912]\n"
     ]
    }
   ],
   "source": [
    "from scipy.stats import uniform\n",
    "x = uniform.rvs(size=10)\n",
    "a = 2\n",
    "b = 3\n",
    "randoms  = a + (b-a)*x\n",
    "print(randoms)"
   ]
  },
  {
   "cell_type": "markdown",
   "metadata": {},
   "source": [
    "**Your task:**\n",
    "\n",
    "1. Based on the code above, write a function that generates uniformly distributed random numbers. There are several requirements for your function:\n",
    "    * It should accept 3 parameters: \n",
    "        * `bottom` - the lower boundary of the generated numbers\n",
    "        * `ceiling` - the upper boundary of the generated numbers\n",
    "        * `count` - how many numbers to generate\n",
    "    * It should return an array of uniformly distributed random numbers\n",
    "\n",
    "1. Call your function with 2 sets of params below:\n",
    "    * bottom=10, ceiling=15, count=100\n",
    "    * bottom=10, ceiling=60, count=1,000\n",
    "\n",
    "1. Plot the uniform distributions generated above using histograms, where x axis is the value and y axis is the count. Let the histogram's number of bins be 10.\n",
    "\n",
    "Your output should look like below:\n",
    "\n",
    "![uniform distribution](ud.png)"
   ]
  },
  {
   "cell_type": "code",
   "execution_count": 29,
   "metadata": {},
   "outputs": [
    {
     "data": {
      "text/plain": [
       "(array([110.,  88.,  90., 110.,  96., 106.,  84., 109.,  99., 108.]),\n",
       " array([10.05016197, 15.04290856, 20.03565514, 25.02840173, 30.02114831,\n",
       "        35.0138949 , 40.00664148, 44.99938806, 49.99213465, 54.98488123,\n",
       "        59.97762782]),\n",
       " <a list of 10 Patch objects>)"
      ]
     },
     "execution_count": 29,
     "metadata": {},
     "output_type": "execute_result"
    },
    {
     "data": {
      "image/png": "[encoded data removed]",
      "text/plain": [
       "<Figure size 432x288 with 2 Axes>"
      ]
     },
     "metadata": {
      "needs_background": "light"
     },
     "output_type": "display_data"
    }
   ],
   "source": [
    "%matplotlib inline\n",
    "import matplotlib.pyplot as plt\n",
    "import numpy as np\n",
    "def randomNumbers(bottom, ceiling, count):\n",
    "    arr = uniform.rvs(loc = bottom, scale = (ceiling-bottom),size=count)\n",
    "    return arr\n",
    "\n",
    "g1 = randomNumbers(10,15,100)\n",
    "g2 = randomNumbers(10,60,1000)\n",
    "fig,ax = plt.subplots(1,2, sharey=True, tight_layout=True)\n",
    "ax[0].hist(g1, bins=10)\n",
    "ax[1].hist(g2, bins=10)"
   ]
  },
  {
   "cell_type": "markdown",
   "metadata": {},
   "source": [
    "How are the two distributions different?"
   ]
  },
  {
   "cell_type": "code",
   "execution_count": 30,
   "metadata": {},
   "outputs": [],
   "source": [
    "#I think that the diffence comes from the sample size, as the first one takes 100 values and the other one 100\n",
    "#but the frequence is quite similar"
   ]
  },
  {
   "cell_type": "markdown",
   "metadata": {},
   "source": [
    "## Normal Distribution\n",
    "\n",
    "1. In the same way in the Uniform Distribution challenge, write a function that generates normally distributed random numbers.\n",
    "1. Generate 1,000 normally distributed numbers with the average of 10 and standard deviation of 1\n",
    "1. Generate 1,000 normally distributed numbers with the average of 10 and standard deviation of 50\n",
    "2. Plot the distributions of the data generated.\n",
    "\n",
    "Expected output:\n",
    "\n",
    "![normal distribution](nd.png)"
   ]
  },
  {
   "cell_type": "code",
   "execution_count": 33,
   "metadata": {},
   "outputs": [
    {
     "data": {
      "text/plain": [
       "(array([  8.,  30.,  74., 129., 217., 211., 184.,  98.,  41.,   8.]),\n",
       " array([-136.19693212, -107.69406607,  -79.19120002,  -50.68833397,\n",
       "         -22.18546792,    6.31739813,   34.82026418,   63.32313023,\n",
       "          91.82599628,  120.32886232,  148.83172837]),\n",
       " <a list of 10 Patch objects>)"
      ]
     },
     "execution_count": 33,
     "metadata": {},
     "output_type": "execute_result"
    },
    {
     "data": {
      "image/png": "[encoded data removed]",
      "text/plain": [
       "<Figure size 432x288 with 2 Axes>"
      ]
     },
     "metadata": {
      "needs_background": "light"
     },
     "output_type": "display_data"
    }
   ],
   "source": [
    "# your code here\n",
    "def normal(mean, sd, count):\n",
    "    x = np.random.normal(loc=mean, scale=sd, size=count)\n",
    "    return x\n",
    "g1 = normal(10,1,1000)\n",
    "g2 = normal(10,50,1000)\n",
    "fig,ax = plt.subplots(1,2, sharey=True, tight_layout=True)\n",
    "ax[0].hist(g1)\n",
    "ax[1].hist(g2)"
   ]
  },
  {
   "cell_type": "markdown",
   "metadata": {},
   "source": [
    "How are the two distributions different?"
   ]
  },
  {
   "cell_type": "code",
   "execution_count": null,
   "metadata": {},
   "outputs": [],
   "source": [
    "#As the standard deviation is greater in the second graph the values of the sample are less concentrated around the mean"
   ]
  },
  {
   "cell_type": "markdown",
   "metadata": {},
   "source": [
    "## Normal Distribution of Real Data\n",
    "\n",
    "In this challenge we are going to take a look the real data. We will use vehicles.csv file for this exercise"
   ]
  },
  {
   "cell_type": "code",
   "execution_count": 36,
   "metadata": {},
   "outputs": [],
   "source": [
    "import pandas as pd\n",
    "df = pd.read_csv(\"../your-code/vehicles.csv\")\n"
   ]
  },
  {
   "cell_type": "markdown",
   "metadata": {},
   "source": [
    "First import vehicles.csv.\n",
    "Then plot the histograms for the following variables:\n",
    "\n",
    "1. Fuel Barrels/Year"
   ]
  },
  {
   "cell_type": "code",
   "execution_count": 37,
   "metadata": {},
   "outputs": [
    {
     "data": {
      "text/plain": [
       "(array([8.1000e+01, 3.7400e+02, 6.7650e+03, 1.7039e+04, 8.9660e+03,\n",
       "        2.0960e+03, 5.6900e+02, 3.6000e+01, 2.1000e+01, 5.0000e+00]),\n",
       " array([ 0.06      ,  4.76271429,  9.46542857, 14.16814286, 18.87085714,\n",
       "        23.57357143, 28.27628571, 32.979     , 37.68171429, 42.38442857,\n",
       "        47.08714286]),\n",
       " <a list of 10 Patch objects>)"
      ]
     },
     "execution_count": 37,
     "metadata": {},
     "output_type": "execute_result"
    },
    {
     "data": {
      "image/png": "[encoded data removed]",
      "text/plain": [
       "<Figure size 432x288 with 1 Axes>"
      ]
     },
     "metadata": {
      "needs_background": "light"
     },
     "output_type": "display_data"
    }
   ],
   "source": [
    "x = df['Fuel Barrels/Year']\n",
    "plt.hist(x)"
   ]
  },
  {
   "cell_type": "markdown",
   "metadata": {},
   "source": [
    "2. CO2 Emission Grams/Mile "
   ]
  },
  {
   "cell_type": "code",
   "execution_count": 38,
   "metadata": {},
   "outputs": [
    {
     "data": {
      "text/plain": [
       "(array([3.4000e+01, 8.3200e+02, 1.0205e+04, 1.5411e+04, 6.8250e+03,\n",
       "        2.0100e+03, 5.7300e+02, 3.6000e+01, 2.1000e+01, 5.0000e+00]),\n",
       " array([  37.        ,  160.25714286,  283.51428571,  406.77142857,\n",
       "         530.02857143,  653.28571429,  776.54285714,  899.8       ,\n",
       "        1023.05714286, 1146.31428571, 1269.57142857]),\n",
       " <a list of 10 Patch objects>)"
      ]
     },
     "execution_count": 38,
     "metadata": {},
     "output_type": "execute_result"
    },
    {
     "data": {
      "image/png": "[encoded data removed]",
      "text/plain": [
       "<Figure size 432x288 with 1 Axes>"
      ]
     },
     "metadata": {
      "needs_background": "light"
     },
     "output_type": "display_data"
    }
   ],
   "source": [
    "x1 = df['CO2 Emission Grams/Mile']\n",
    "plt.hist(x1)"
   ]
  },
  {
   "cell_type": "markdown",
   "metadata": {},
   "source": [
    "3. Combined MPG"
   ]
  },
  {
   "cell_type": "code",
   "execution_count": 39,
   "metadata": {},
   "outputs": [
    {
     "data": {
      "text/plain": [
       "(array([6.3800e+02, 8.4990e+03, 1.5512e+04, 7.9320e+03, 2.4160e+03,\n",
       "        6.3600e+02, 2.1000e+02, 6.5000e+01, 3.3000e+01, 1.1000e+01]),\n",
       " array([ 7. , 11.9, 16.8, 21.7, 26.6, 31.5, 36.4, 41.3, 46.2, 51.1, 56. ]),\n",
       " <a list of 10 Patch objects>)"
      ]
     },
     "execution_count": 39,
     "metadata": {},
     "output_type": "execute_result"
    },
    {
     "data": {
      "image/png": "[encoded data removed]",
      "text/plain": [
       "<Figure size 432x288 with 1 Axes>"
      ]
     },
     "metadata": {
      "needs_background": "light"
     },
     "output_type": "display_data"
    }
   ],
   "source": [
    "x2 = df['Combined MPG']\n",
    "plt.hist(x2)"
   ]
  },
  {
   "cell_type": "markdown",
   "metadata": {},
   "source": [
    "Which one(s) of the variables are nearly normally distributed? How do you know?"
   ]
  },
  {
   "cell_type": "code",
   "execution_count": null,
   "metadata": {},
   "outputs": [],
   "source": [
    "#I think that the first one(fuel barrels/year), because it looks more uniform the distribution of the frequency of the values"
   ]
  },
  {
   "cell_type": "markdown",
   "metadata": {},
   "source": [
    "## Exponential Distribution"
   ]
  },
  {
   "cell_type": "markdown",
   "metadata": {},
   "source": [
    "1. Using `numpy.random.exponential`, create a function that returns a list of numbers exponentially distributed with the mean of 10. \n",
    "\n",
    "1. Use the function to generate two number sequences with the size of 10 and 100.\n",
    "\n",
    "1. Plot the distributions as histograms with the nubmer of bins as 100.\n",
    "\n",
    "Your output should look like below:\n",
    "\n",
    "![exponential distribution](ed.png)"
   ]
  },
  {
   "cell_type": "code",
   "execution_count": 49,
   "metadata": {},
   "outputs": [
    {
     "data": {
      "text/plain": [
       "(array([76., 66., 49., 81., 55., 46., 57., 38., 31., 28., 40., 46., 21.,\n",
       "        21., 21., 25., 21., 20., 19., 15., 16., 13.,  6., 13., 13., 10.,\n",
       "         9.,  9.,  7.,  6.,  8., 10.,  4.,  8.,  8., 10.,  9.,  6.,  7.,\n",
       "         1.,  7.,  7.,  3.,  3.,  1.,  2.,  6.,  0.,  1.,  3.,  0.,  0.,\n",
       "         1.,  1.,  1.,  3.,  0.,  0.,  0.,  1.,  2.,  3.,  2.,  1.,  1.,\n",
       "         0.,  0.,  0.,  0.,  0.,  0.,  1.,  0.,  0.,  0.,  0.,  0.,  0.,\n",
       "         0.,  0.,  0.,  0.,  0.,  0.,  0.,  0.,  0.,  0.,  0.,  0.,  0.,\n",
       "         0.,  0.,  0.,  0.,  0.,  0.,  0.,  0.,  1.]),\n",
       " array([1.44310363e-01, 7.52121178e+00, 1.48981132e+01, 2.22750146e+01,\n",
       "        2.96519160e+01, 3.70288175e+01, 4.44057189e+01, 5.17826203e+01,\n",
       "        5.91595217e+01, 6.65364232e+01, 7.39133246e+01, 8.12902260e+01,\n",
       "        8.86671274e+01, 9.60440288e+01, 1.03420930e+02, 1.10797832e+02,\n",
       "        1.18174733e+02, 1.25551635e+02, 1.32928536e+02, 1.40305437e+02,\n",
       "        1.47682339e+02, 1.55059240e+02, 1.62436142e+02, 1.69813043e+02,\n",
       "        1.77189944e+02, 1.84566846e+02, 1.91943747e+02, 1.99320649e+02,\n",
       "        2.06697550e+02, 2.14074452e+02, 2.21451353e+02, 2.28828254e+02,\n",
       "        2.36205156e+02, 2.43582057e+02, 2.50958959e+02, 2.58335860e+02,\n",
       "        2.65712762e+02, 2.73089663e+02, 2.80466564e+02, 2.87843466e+02,\n",
       "        2.95220367e+02, 3.02597269e+02, 3.09974170e+02, 3.17351071e+02,\n",
       "        3.24727973e+02, 3.32104874e+02, 3.39481776e+02, 3.46858677e+02,\n",
       "        3.54235579e+02, 3.61612480e+02, 3.68989381e+02, 3.76366283e+02,\n",
       "        3.83743184e+02, 3.91120086e+02, 3.98496987e+02, 4.05873889e+02,\n",
       "        4.13250790e+02, 4.20627691e+02, 4.28004593e+02, 4.35381494e+02,\n",
       "        4.42758396e+02, 4.50135297e+02, 4.57512198e+02, 4.64889100e+02,\n",
       "        4.72266001e+02, 4.79642903e+02, 4.87019804e+02, 4.94396706e+02,\n",
       "        5.01773607e+02, 5.09150508e+02, 5.16527410e+02, 5.23904311e+02,\n",
       "        5.31281213e+02, 5.38658114e+02, 5.46035016e+02, 5.53411917e+02,\n",
       "        5.60788818e+02, 5.68165720e+02, 5.75542621e+02, 5.82919523e+02,\n",
       "        5.90296424e+02, 5.97673325e+02, 6.05050227e+02, 6.12427128e+02,\n",
       "        6.19804030e+02, 6.27180931e+02, 6.34557833e+02, 6.41934734e+02,\n",
       "        6.49311635e+02, 6.56688537e+02, 6.64065438e+02, 6.71442340e+02,\n",
       "        6.78819241e+02, 6.86196143e+02, 6.93573044e+02, 7.00949945e+02,\n",
       "        7.08326847e+02, 7.15703748e+02, 7.23080650e+02, 7.30457551e+02,\n",
       "        7.37834452e+02]),\n",
       " <a list of 100 Patch objects>)"
      ]
     },
     "execution_count": 49,
     "metadata": {},
     "output_type": "execute_result"
    },
    {
     "data": {
      "image/png": "[encoded data removed]",
      "text/plain": [
       "<Figure size 432x288 with 2 Axes>"
      ]
     },
     "metadata": {
      "needs_background": "light"
     },
     "output_type": "display_data"
    }
   ],
   "source": [
    "def exponential(mean,count):\n",
    "    y = np.random.exponential(scale=mean,size=count)\n",
    "    return y\n",
    "g1 = exponential(10,1000)\n",
    "g2 = exponential(100,1000)\n",
    "fig,ax = plt.subplots(1,2, sharey=True, tight_layout=True)\n",
    "ax[0].hist(g1, bins=100)\n",
    "ax[1].hist(g2, bins=100)"
   ]
  },
  {
   "cell_type": "markdown",
   "metadata": {},
   "source": [
    "How are the two distributions different?"
   ]
  },
  {
   "cell_type": "code",
   "execution_count": null,
   "metadata": {},
   "outputs": [],
   "source": [
    "# "
   ]
  },
  {
   "cell_type": "markdown",
   "metadata": {},
   "source": [
    "## Exponential Distribution of Real Data\n",
    "\n",
    "Suppose that the amount of time one spends in a bank is exponentially distributed with mean as 10 minutes (i.e. λ = 1/10). What is the probability that a customer will spend less than fifteen minutes in the bank? \n",
    "\n",
    "Write a code in python to solve this problem"
   ]
  },
  {
   "cell_type": "code",
   "execution_count": 58,
   "metadata": {},
   "outputs": [
    {
     "data": {
      "text/plain": [
       "0.7768698398515702"
      ]
     },
     "execution_count": 58,
     "metadata": {},
     "output_type": "execute_result"
    }
   ],
   "source": [
    "# your answer here\n",
    "import scipy.stats\n",
    "# Hint: This is same as saying P(x<15)\n",
    "pless15 = scipy.stats.expon.cdf(15, loc=0, scale=10)\n",
    "pless15"
   ]
  },
  {
   "cell_type": "markdown",
   "metadata": {},
   "source": [
    "What is the probability that the customer will spend more than 15 minutes"
   ]
  },
  {
   "cell_type": "code",
   "execution_count": null,
   "metadata": {},
   "outputs": [],
   "source": [
    "# your answer here"
   ]
  },
  {
   "cell_type": "code",
   "execution_count": 60,
   "metadata": {},
   "outputs": [
    {
     "data": {
      "text/plain": [
       "0.2231301601484298"
      ]
     },
     "execution_count": 60,
     "metadata": {},
     "output_type": "execute_result"
    }
   ],
   "source": [
    "pmore15 = 1 - pless15\n",
    "pmore15"
   ]
  },
  {
   "cell_type": "code",
   "execution_count": null,
   "metadata": {},
   "outputs": [],
   "source": []
  }
 ],
 "metadata": {
  "kernelspec": {
   "display_name": "Python 3",
   "language": "python",
   "name": "python3"
  },
  "language_info": {
   "codemirror_mode": {
    "name": "ipython",
    "version": 3
   },
   "file_extension": ".py",
   "mimetype": "text/x-python",
   "name": "python",
   "nbconvert_exporter": "python",
   "pygments_lexer": "ipython3",
   "version": "3.7.5rc1"
  }
 },
 "nbformat": 4,
 "nbformat_minor": 2
}
