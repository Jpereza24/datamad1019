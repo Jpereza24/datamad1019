{
 "cells": [
  {
   "cell_type": "markdown",
   "metadata": {},
   "source": [
    "# Web Scraping Lab\n",
    "\n",
    "You will find in this notebook some scrapy exercises to practise your scraping skills.\n",
    "\n",
    "**Tips:**\n",
    "\n",
    "- Check the response status code for each request to ensure you have obtained the intended contennt.\n",
    "- Print the response text in each request to understand the kind of info you are getting and its format.\n",
    "- Check for patterns in the response text to extract the data/info requested in each question.\n",
    "- Visit each url and take a look at its source through Chrome DevTools. You'll need to identify the html tags, special class names etc. used for the html content you are expected to extract."
   ]
  },
  {
   "cell_type": "markdown",
   "metadata": {},
   "source": [
    "- [Requests library](http://docs.python-requests.org/en/master/#the-user-guide) documentation \n",
    "- [Beautiful Soup Doc](https://www.crummy.com/software/BeautifulSoup/bs4/doc/)\n",
    "- [Urllib](https://docs.python.org/3/library/urllib.html#module-urllib)\n",
    "- [re lib](https://docs.python.org/3/library/re.html)\n",
    "- [lxml lib](https://lxml.de/)\n",
    "- [Scrapy](https://scrapy.org/)\n",
    "- [List of HTTP status codes](https://en.wikipedia.org/wiki/List_of_HTTP_status_codes)\n",
    "- [HTML basics](http://www.simplehtmlguide.com/cheatsheet.php)\n",
    "- [CSS basics](https://www.cssbasics.com/#page_start)"
   ]
  },
  {
   "cell_type": "markdown",
   "metadata": {},
   "source": [
    "#### Below are the libraries and modules you may need. `requests`,  `BeautifulSoup` and `pandas` are imported for you. If you prefer to use additional libraries feel free to uncomment them."
   ]
  },
  {
   "cell_type": "code",
   "execution_count": 20,
   "metadata": {},
   "outputs": [],
   "source": [
    "import requests\n",
    "from bs4 import BeautifulSoup\n",
    "import pandas as pd\n",
    "# from pprint import pprint\n",
    "# from lxml import html\n",
    "# from lxml.html import fromstring\n",
    "# import urllib.request\n",
    "# from urllib.request import urlopen\n",
    "# import random\n",
    "import re\n",
    "# import scrapy"
   ]
  },
  {
   "cell_type": "markdown",
   "metadata": {},
   "source": [
    "#### Download, parse (using BeautifulSoup), and print the content from the Trending Developers page from GitHub:"
   ]
  },
  {
   "cell_type": "code",
   "execution_count": 3,
   "metadata": {},
   "outputs": [],
   "source": [
    "# This is the url you will scrape in this exercise\n",
    "url = 'https://github.com/trending/developers'"
   ]
  },
  {
   "cell_type": "code",
   "execution_count": 55,
   "metadata": {},
   "outputs": [
    {
     "data": {
      "text/plain": [
       "'\\n\\n\\n\\n\\n\\n<!DO'"
      ]
     },
     "execution_count": 55,
     "metadata": {},
     "output_type": "execute_result"
    }
   ],
   "source": [
    "res = requests.get(url)\n",
    "html = res.text\n",
    "html[:10]"
   ]
  },
  {
   "cell_type": "markdown",
   "metadata": {},
   "source": [
    "#### Display the names of the trending developers retrieved in the previous step.\n",
    "\n",
    "Your output should be a Python list of developer names. Each name should not contain any html tag.\n",
    "\n",
    "**Instructions:**\n",
    "\n",
    "1. Find out the html tag and class names used for the developer names. You can achieve this using Chrome DevTools.\n",
    "\n",
    "1. Use BeautifulSoup to extract all the html elements that contain the developer names.\n",
    "\n",
    "1. Use string manipulation techniques to replace whitespaces and linebreaks (i.e. `\\n`) in the *text* of each html element. Use a list to store the clean names.\n",
    "\n",
    "1. Print the list of names.\n",
    "\n",
    "Your output should look like below:\n",
    "\n",
    "```\n",
    "['trimstray (@trimstray)',\n",
    " 'joewalnes (JoeWalnes)',\n",
    " 'charlax (Charles-AxelDein)',\n",
    " 'ForrestKnight (ForrestKnight)',\n",
    " 'revery-ui (revery-ui)',\n",
    " 'alibaba (Alibaba)',\n",
    " 'Microsoft (Microsoft)',\n",
    " 'github (GitHub)',\n",
    " 'facebook (Facebook)',\n",
    " 'boazsegev (Bo)',\n",
    " 'google (Google)',\n",
    " 'cloudfetch',\n",
    " 'sindresorhus (SindreSorhus)',\n",
    " 'tensorflow',\n",
    " 'apache (TheApacheSoftwareFoundation)',\n",
    " 'DevonCrawford (DevonCrawford)',\n",
    " 'ARMmbed (ArmMbed)',\n",
    " 'vuejs (vuejs)',\n",
    " 'fastai (fast.ai)',\n",
    " 'QiShaoXuan (Qi)',\n",
    " 'joelparkerhenderson (JoelParkerHenderson)',\n",
    " 'torvalds (LinusTorvalds)',\n",
    " 'CyC2018',\n",
    " 'komeiji-satori (神楽坂覚々)',\n",
    " 'script-8']\n",
    " ```"
   ]
  },
  {
   "cell_type": "code",
   "execution_count": 53,
   "metadata": {},
   "outputs": [
    {
     "data": {
      "text/plain": [
       "['Emmanuel Garcia',\n",
       " 'Hugo van Kemenade',\n",
       " 'Darío Kondratiuk',\n",
       " 'Megan Marsh',\n",
       " 'Minko Gechev',\n",
       " 'William Falcon',\n",
       " 'Yoshifumi Kawai',\n",
       " 'Mateusz Burzyński',\n",
       " 'Sam Verschueren',\n",
       " 'Whyrusleeping',\n",
       " 'Holger Rapp',\n",
       " 'Francois Zaninotto',\n",
       " 'Dylan Vann',\n",
       " 'Miek Gieben',\n",
       " 'Richard Schneeman',\n",
       " 'Alec Thomas',\n",
       " '陈帅',\n",
       " 'François Beaufort',\n",
       " 'Tanner Linsley',\n",
       " 'Erik Wijmans',\n",
       " 'Joshua Blum',\n",
       " 'Gabriel Aszalos',\n",
       " 'Rico Sta. Cruz',\n",
       " 'Solly Ross',\n",
       " 'Vinayak Mehta']"
      ]
     },
     "execution_count": 53,
     "metadata": {},
     "output_type": "execute_result"
    }
   ],
   "source": [
    "soup = BeautifulSoup(html, 'html.parser')\n",
    "dev = soup.select('.h3 a')\n",
    "[e.text.strip() for e in dev]"
   ]
  },
  {
   "cell_type": "markdown",
   "metadata": {},
   "source": [
    "#### Display the trending Python repositories in GitHub\n",
    "\n",
    "The steps to solve this problem is similar to the previous one except that you need to find out the repository names instead of developer names."
   ]
  },
  {
   "cell_type": "code",
   "execution_count": 54,
   "metadata": {},
   "outputs": [],
   "source": [
    "# This is the url you will scrape in this exercise\n",
    "url = 'https://github.com/trending/python?since=daily'"
   ]
  },
  {
   "cell_type": "code",
   "execution_count": 62,
   "metadata": {},
   "outputs": [
    {
     "name": "stdout",
     "output_type": "stream",
     "text": [
      "<class 'bs4.BeautifulSoup'>\n"
     ]
    }
   ],
   "source": [
    "res = requests.get(url)\n",
    "html = res.text\n",
    "soup1 = BeautifulSoup(html, 'html.parser')\n",
    "print(type(soup1))"
   ]
  },
  {
   "cell_type": "code",
   "execution_count": 86,
   "metadata": {},
   "outputs": [
    {
     "data": {
      "text/plain": [
       "['spleeter',\n",
       " 'gpt-2',\n",
       " 'models',\n",
       " 'interview_internal_reference',\n",
       " 'python',\n",
       " 'GNNs-for-NLP',\n",
       " 'Ultra-Light-Fast-Generic-Face-Detector-1MB',\n",
       " 'transformers',\n",
       " 'research-charnet',\n",
       " 'perception',\n",
       " 'interpy-zh',\n",
       " 'azure-cli',\n",
       " 'django-rest-framework',\n",
       " 'algo',\n",
       " 'marshmallow',\n",
       " 'models',\n",
       " 'ClamAV_0Day_exploit',\n",
       " 'xlnet',\n",
       " 'ZEN',\n",
       " 'DeepCTR',\n",
       " 'bert',\n",
       " 'Python',\n",
       " 'hydra',\n",
       " 'httpx',\n",
       " 'pointnet2']"
      ]
     },
     "execution_count": 86,
     "metadata": {},
     "output_type": "execute_result"
    }
   ],
   "source": [
    "repos = soup1.select('.h3 a[href]')\n",
    "repos = list(map(lambda e: e.text.strip().split('/'), repos))\n",
    "repos = [lista[1] for lista in repos]\n",
    "[re.sub('\\\\n','', e).strip() for e in repos]"
   ]
  },
  {
   "cell_type": "markdown",
   "metadata": {},
   "source": [
    "#### Display all the image links from Walt Disney wikipedia page"
   ]
  },
  {
   "cell_type": "code",
   "execution_count": 119,
   "metadata": {},
   "outputs": [],
   "source": [
    "# This is the url you will scrape in this exercise\n",
    "url = 'https://en.wikipedia.org/wiki/Walt_Disney'"
   ]
  },
  {
   "cell_type": "code",
   "execution_count": 133,
   "metadata": {},
   "outputs": [
    {
     "name": "stdout",
     "output_type": "stream",
     "text": [
      "<class 'bs4.BeautifulSoup'>\n"
     ]
    }
   ],
   "source": [
    "res2 = requests.get(url)\n",
    "html = res2.text\n",
    "soup2 = BeautifulSoup(html, 'html.parser')\n",
    "print(type(soup2))"
   ]
  },
  {
   "cell_type": "code",
   "execution_count": 180,
   "metadata": {},
   "outputs": [],
   "source": [
    "from IPython.display import Image\n",
    "from IPython.core.display import HTML\n",
    "soupimage = soup2.findAll('img')\n"
   ]
  },
  {
   "cell_type": "code",
   "execution_count": 187,
   "metadata": {},
   "outputs": [
    {
     "data": {
      "text/html": [
       "<img src=\"//upload.wikimedia.org/wikipedia/commons/thumb/c/cd/Walt_Disney_Snow_white_1937_trailer_screenshot_%2813%29.jpg/220px-Walt_Disney_Snow_white_1937_trailer_screenshot_%2813%29.jpg\"/>"
      ],
      "text/plain": [
       "<IPython.core.display.Image object>"
      ]
     },
     "metadata": {},
     "output_type": "display_data"
    }
   ],
   "source": [
    "imagenes = []\n",
    "for image in soupimage:\n",
    "    imagenes.append(image.get('src'))\n",
    "display(Image(url=imagenes[10]))"
   ]
  },
  {
   "cell_type": "markdown",
   "metadata": {},
   "source": [
    "#### Retrieve an arbitary Wikipedia page of \"Python\" and create a list of links on that page"
   ]
  },
  {
   "cell_type": "code",
   "execution_count": 158,
   "metadata": {},
   "outputs": [],
   "source": [
    "# This is the url you will scrape in this exercise\n",
    "url ='https://en.wikipedia.org/wiki/Python' "
   ]
  },
  {
   "cell_type": "code",
   "execution_count": 177,
   "metadata": {},
   "outputs": [],
   "source": [
    "res3 = requests.get(url)\n",
    "html3 = res3.text\n",
    "soup3 = BeautifulSoup(html3,'html.parser')\n"
   ]
  },
  {
   "cell_type": "code",
   "execution_count": 184,
   "metadata": {},
   "outputs": [],
   "source": [
    "linkswiki = soup3.findAll('a')"
   ]
  },
  {
   "cell_type": "code",
   "execution_count": 208,
   "metadata": {},
   "outputs": [
    {
     "data": {
      "text/plain": [
       "['https://en.wiktionary.org/wiki/Python',\n",
       " 'https://en.wiktionary.org/wiki/python',\n",
       " 'https://en.wikipedia.org/w/index.php?title=Special:WhatLinksHere/Python&namespace=0',\n",
       " 'https://en.wikipedia.org/w/index.php?title=Python&oldid=924004650',\n",
       " 'https://donate.wikimedia.org/wiki/Special:FundraiserRedirector?utm_source=donate&utm_medium=sidebar&utm_campaign=C13_en.wikipedia.org&uselang=en',\n",
       " 'https://www.wikidata.org/wiki/Special:EntityPage/Q747452',\n",
       " 'https://commons.wikimedia.org/wiki/Category:Python',\n",
       " 'https://af.wikipedia.org/wiki/Python',\n",
       " 'https://als.wikipedia.org/wiki/Python',\n",
       " 'https://az.wikipedia.org/wiki/Python',\n",
       " 'https://bn.wikipedia.org/wiki/%E0%A6%AA%E0%A6%BE%E0%A6%87%E0%A6%A5%E0%A6%A8_(%E0%A6%A6%E0%A7%8D%E0%A6%AC%E0%A7%8D%E0%A6%AF%E0%A6%B0%E0%A7%8D%E0%A6%A5%E0%A6%A4%E0%A6%BE_%E0%A6%A8%E0%A6%BF%E0%A6%B0%E0%A6%B8%E0%A6%A8)',\n",
       " 'https://be.wikipedia.org/wiki/Python',\n",
       " 'https://bg.wikipedia.org/wiki/%D0%9F%D0%B8%D1%82%D0%BE%D0%BD_(%D0%BF%D0%BE%D1%8F%D1%81%D0%BD%D0%B5%D0%BD%D0%B8%D0%B5)',\n",
       " 'https://cs.wikipedia.org/wiki/Python_(rozcestn%C3%ADk)',\n",
       " 'https://da.wikipedia.org/wiki/Python',\n",
       " 'https://de.wikipedia.org/wiki/Python',\n",
       " 'https://eo.wikipedia.org/wiki/Pitono_(apartigilo)',\n",
       " 'https://eu.wikipedia.org/wiki/Python_(argipena)',\n",
       " 'https://fa.wikipedia.org/wiki/%D9%BE%D8%A7%DB%8C%D8%AA%D9%88%D9%86',\n",
       " 'https://fr.wikipedia.org/wiki/Python',\n",
       " 'https://ko.wikipedia.org/wiki/%ED%8C%8C%EC%9D%B4%EC%84%A0',\n",
       " 'https://hr.wikipedia.org/wiki/Python_(razdvojba)',\n",
       " 'https://io.wikipedia.org/wiki/Pitono',\n",
       " 'https://id.wikipedia.org/wiki/Python',\n",
       " 'https://ia.wikipedia.org/wiki/Python_(disambiguation)',\n",
       " 'https://is.wikipedia.org/wiki/Python_(a%C3%B0greining)',\n",
       " 'https://it.wikipedia.org/wiki/Python_(disambigua)',\n",
       " 'https://he.wikipedia.org/wiki/%D7%A4%D7%99%D7%AA%D7%95%D7%9F',\n",
       " 'https://ka.wikipedia.org/wiki/%E1%83%9E%E1%83%98%E1%83%97%E1%83%9D%E1%83%9C%E1%83%98_(%E1%83%9B%E1%83%A0%E1%83%90%E1%83%95%E1%83%90%E1%83%9A%E1%83%9B%E1%83%9C%E1%83%98%E1%83%A8%E1%83%95%E1%83%9C%E1%83%94%E1%83%9A%E1%83%9D%E1%83%95%E1%83%90%E1%83%9C%E1%83%98)',\n",
       " 'https://kg.wikipedia.org/wiki/Mboma_(nyoka)',\n",
       " 'https://la.wikipedia.org/wiki/Python_(discretiva)',\n",
       " 'https://lb.wikipedia.org/wiki/Python',\n",
       " 'https://hu.wikipedia.org/wiki/Python_(egy%C3%A9rtelm%C5%B1s%C3%ADt%C5%91_lap)',\n",
       " 'https://mr.wikipedia.org/wiki/%E0%A4%AA%E0%A4%BE%E0%A4%AF%E0%A4%A5%E0%A5%89%E0%A4%A8_(%E0%A4%86%E0%A4%9C%E0%A5%8D%E0%A4%9E%E0%A4%BE%E0%A4%B5%E0%A4%B2%E0%A5%80_%E0%A4%AD%E0%A4%BE%E0%A4%B7%E0%A4%BE)',\n",
       " 'https://nl.wikipedia.org/wiki/Python',\n",
       " 'https://ja.wikipedia.org/wiki/%E3%83%91%E3%82%A4%E3%82%BD%E3%83%B3',\n",
       " 'https://no.wikipedia.org/wiki/Pyton',\n",
       " 'https://pl.wikipedia.org/wiki/Pyton',\n",
       " 'https://pt.wikipedia.org/wiki/Python_(desambigua%C3%A7%C3%A3o)',\n",
       " 'https://ru.wikipedia.org/wiki/Python_(%D0%B7%D0%BD%D0%B0%D1%87%D0%B5%D0%BD%D0%B8%D1%8F)',\n",
       " 'https://sd.wikipedia.org/wiki/%D8%A7%D8%B1%DA%99',\n",
       " 'https://sk.wikipedia.org/wiki/Python',\n",
       " 'https://sr.wikipedia.org/wiki/%D0%9F%D0%B8%D1%82%D0%BE%D0%BD_(%D0%B2%D0%B8%D1%88%D0%B5%D0%B7%D0%BD%D0%B0%D1%87%D0%BD%D0%B0_%D0%BE%D0%B4%D1%80%D0%B5%D0%B4%D0%BD%D0%B8%D1%86%D0%B0)',\n",
       " 'https://sh.wikipedia.org/wiki/Python',\n",
       " 'https://fi.wikipedia.org/wiki/Python',\n",
       " 'https://sv.wikipedia.org/wiki/Pyton',\n",
       " 'https://th.wikipedia.org/wiki/%E0%B9%84%E0%B8%9E%E0%B8%97%E0%B8%AD%E0%B8%99',\n",
       " 'https://tr.wikipedia.org/wiki/Python',\n",
       " 'https://uk.wikipedia.org/wiki/%D0%9F%D1%96%D1%84%D0%BE%D0%BD',\n",
       " 'https://ur.wikipedia.org/wiki/%D9%BE%D8%A7%D8%A6%DB%8C%D8%AA%DA%BE%D9%88%D9%86',\n",
       " 'https://vi.wikipedia.org/wiki/Python',\n",
       " 'https://zh.wikipedia.org/wiki/Python_(%E6%B6%88%E6%AD%A7%E4%B9%89)',\n",
       " 'https://www.wikidata.org/wiki/Special:EntityPage/Q747452#sitelinks-wikipedia',\n",
       " 'https://foundation.wikimedia.org/wiki/Privacy_policy',\n",
       " 'https://www.mediawiki.org/wiki/Special:MyLanguage/How_to_contribute',\n",
       " 'https://foundation.wikimedia.org/wiki/Cookie_statement',\n",
       " 'https://wikimediafoundation.org/',\n",
       " 'https://www.mediawiki.org/']"
      ]
     },
     "execution_count": 208,
     "metadata": {},
     "output_type": "execute_result"
    }
   ],
   "source": [
    "links = []\n",
    "for link in linkswiki:\n",
    "    href = link.get('href')\n",
    "    if href and href[:4]== 'http':\n",
    "        links.append(href)\n",
    "links"
   ]
  },
  {
   "cell_type": "markdown",
   "metadata": {},
   "source": [
    "#### Number of Titles that have changed in the United States Code since its last release point "
   ]
  },
  {
   "cell_type": "code",
   "execution_count": 188,
   "metadata": {},
   "outputs": [],
   "source": [
    "# This is the url you will scrape in this exercise\n",
    "url = 'http://uscode.house.gov/download/download.shtml'"
   ]
  },
  {
   "cell_type": "code",
   "execution_count": 233,
   "metadata": {},
   "outputs": [
    {
     "name": "stdout",
     "output_type": "stream",
     "text": [
      "<class 'bs4.BeautifulSoup'>\n"
     ]
    }
   ],
   "source": [
    "res4 = requests.get(url)\n",
    "html4 = res4.text\n",
    "soup4 = BeautifulSoup(html4,'html.parser')\n",
    "print(type(soup4))"
   ]
  },
  {
   "cell_type": "code",
   "execution_count": 234,
   "metadata": {},
   "outputs": [],
   "source": [
    "titles = soup4.select('.usctitlechanged')"
   ]
  },
  {
   "cell_type": "code",
   "execution_count": 236,
   "metadata": {},
   "outputs": [
    {
     "data": {
      "text/plain": [
       "2"
      ]
     },
     "execution_count": 236,
     "metadata": {},
     "output_type": "execute_result"
    }
   ],
   "source": [
    "len(titles)"
   ]
  },
  {
   "cell_type": "markdown",
   "metadata": {},
   "source": [
    "#### A Python list with the top ten FBI's Most Wanted names "
   ]
  },
  {
   "cell_type": "code",
   "execution_count": 237,
   "metadata": {},
   "outputs": [],
   "source": [
    "# This is the url you will scrape in this exercise\n",
    "url = 'https://www.fbi.gov/wanted/topten'"
   ]
  },
  {
   "cell_type": "code",
   "execution_count": 238,
   "metadata": {},
   "outputs": [
    {
     "name": "stdout",
     "output_type": "stream",
     "text": [
      "<class 'bs4.BeautifulSoup'>\n"
     ]
    }
   ],
   "source": [
    "res5 = requests.get(url)\n",
    "html5 = res5.text\n",
    "soup5 = BeautifulSoup(html5,'html.parser')\n",
    "print(type(soup5))"
   ]
  },
  {
   "cell_type": "code",
   "execution_count": 273,
   "metadata": {},
   "outputs": [],
   "source": [
    "criminals = soup5.select('.title')"
   ]
  },
  {
   "cell_type": "code",
   "execution_count": 274,
   "metadata": {},
   "outputs": [],
   "source": [
    "criminals = [criminal.text.split('>') for criminal in criminals]\n",
    "criminals = criminals[1:]\n",
    "criminals = [\",\".join(criminal) for criminal in criminals]"
   ]
  },
  {
   "cell_type": "code",
   "execution_count": 276,
   "metadata": {},
   "outputs": [
    {
     "data": {
      "text/plain": [
       "['JASON DEREK BROWN',\n",
       " 'ALEXIS FLORES',\n",
       " 'EUGENE PALMER',\n",
       " 'SANTIAGO VILLALBA MEDEROS',\n",
       " 'RAFAEL CARO-QUINTERO',\n",
       " 'ROBERT WILLIAM FISHER',\n",
       " 'BHADRESHKUMAR CHETANBHAI PATEL',\n",
       " 'ARNOLDO JIMENEZ',\n",
       " 'ALEJANDRO ROSALES CASTILLO',\n",
       " 'YASER ABDEL SAID']"
      ]
     },
     "execution_count": 276,
     "metadata": {},
     "output_type": "execute_result"
    }
   ],
   "source": [
    "[re.sub('\\\\n', '', e) for e in criminals]"
   ]
  },
  {
   "cell_type": "markdown",
   "metadata": {},
   "source": [
    "####  20 latest earthquakes info (date, time, latitude, longitude and region name) by the EMSC as a pandas dataframe"
   ]
  },
  {
   "cell_type": "code",
   "execution_count": 283,
   "metadata": {},
   "outputs": [
    {
     "name": "stdout",
     "output_type": "stream",
     "text": [
      "<class 'bs4.BeautifulSoup'>\n"
     ]
    }
   ],
   "source": [
    "# This is the url you will scrape in this exercise\n",
    "url = 'https://www.emsc-csem.org/Earthquake/'\n",
    "res6 = requests.get(url)\n",
    "html6 = res6.text\n",
    "soup6 = BeautifulSoup(html6,'html.parser')\n",
    "print(type(soup6))"
   ]
  },
  {
   "cell_type": "code",
   "execution_count": 288,
   "metadata": {},
   "outputs": [
    {
     "data": {
      "text/plain": [
       "[<tr class=\"ligne1 normal\" id=\"803833\" onclick=\"go_details(event,803833);\"><td class=\"tabev0\"></td><td class=\"tabev0\"></td><td class=\"tabev0\"></td><td class=\"tabev6\"><b><i style=\"display:none;\">earthquake</i><a href=\"/Earthquake/earthquake.php?id=803833\">2019-11-07   18:56:03.8</a></b><i class=\"ago\" id=\"ago0\">21min ago</i></td><td class=\"tabev1\">35.72 </td><td class=\"tabev2\">N  </td><td class=\"tabev1\">121.06 </td><td class=\"tabev2\">W  </td><td class=\"tabev3\">7</td><td class=\"tabev5\" id=\"magtyp0\">Md</td><td class=\"tabev2\">2.3</td><td class=\"tb_region\" id=\"reg0\"> CENTRAL CALIFORNIA</td><td class=\"comment updatetimeno\" id=\"upd0\" style=\"text-align:right;\">2019-11-07 18:57</td></tr>,\n",
       " <tr class=\"ligne2 normal\" id=\"803835\" onclick=\"go_details(event,803835);\"><td class=\"tabev0\"></td><td class=\"tabev0\"></td><td class=\"tabev0\"></td><td class=\"tabev6\"><b><i style=\"display:none;\">earthquake</i><a href=\"/Earthquake/earthquake.php?id=803835\">2019-11-07   18:52:18.1</a></b><i class=\"ago\" id=\"ago1\">25min ago</i></td><td class=\"tabev1\">37.89 </td><td class=\"tabev2\">N  </td><td class=\"tabev1\">112.48 </td><td class=\"tabev2\">W  </td><td class=\"tabev3\">10</td><td class=\"tabev5\" id=\"magtyp1\">Ml</td><td class=\"tabev2\">2.4</td><td class=\"tb_region\" id=\"reg1\"> UTAH</td><td class=\"comment updatetimeno\" id=\"upd1\" style=\"text-align:right;\">2019-11-07 19:15</td></tr>,\n",
       " <tr class=\"ligne1 normal\" id=\"803831\" onclick=\"go_details(event,803831);\"><td class=\"tabev0\" style=\"text-align:center;\"><a href=\"https://www.emsc-csem.org/Earthquake/Testimonies/comments.php?id=803831\" onmouseout=\"info_b2('notshow','');\" onmouseover=\"info_b2('show','See the &lt;b&gt;4 testimonies&lt;/b&gt; for this earthquake');\"><span class=\"\" style=\"vertical-align:middle;\">4</span></a></td><td class=\"tabev0\"></td><td class=\"tabev0\"><span class=\"intensity\" onclick=\"go_details(event,null,'https://www.emsc-csem.org/Earthquake/popup_intensmap.php?id=803831&amp;f=/FELTREPORTS/80/803831/IntensityMap.png');\" onmouseout=\"info_b2('notshow','');\" onmouseover=\"info_b2('show','See the &lt;b&gt; Intensity map&lt;/b&gt;');\" style=\"background-color:#66CCFF;\">III</span></td><td class=\"tabev6\"><b><i style=\"display:none;\">earthquake</i><a href=\"/Earthquake/earthquake.php?id=803831\">2019-11-07   18:38:27.4</a></b><i class=\"ago\" id=\"ago2\">39min ago</i></td><td class=\"tabev1\">46.29 </td><td class=\"tabev2\">N  </td><td class=\"tabev1\">7.37 </td><td class=\"tabev2\">E  </td><td class=\"tabev3\">2</td><td class=\"tabev5\" id=\"magtyp2\">ML</td><td class=\"tabev2\">2.5</td><td class=\"tb_region\" id=\"reg2\"> SWITZERLAND</td><td class=\"comment updatetimeno\" id=\"upd2\" style=\"text-align:right;\">2019-11-07 18:51</td></tr>,\n",
       " <tr class=\"ligne2 normal\" id=\"803829\" onclick=\"go_details(event,803829);\"><td class=\"tabev0\" style=\"text-align:center;\"><a href=\"https://www.emsc-csem.org/Earthquake/Testimonies/comments.php?id=803829\" onmouseout=\"info_b2('notshow','');\" onmouseover=\"info_b2('show','See the &lt;b&gt;34 testimonies&lt;/b&gt; for this earthquake');\"><span class=\"\" style=\"vertical-align:middle;\">34</span></a></td><td class=\"tabev0\"></td><td class=\"tabev0\"><span class=\"intensity\" onclick=\"go_details(event,null,'https://www.emsc-csem.org/Earthquake/popup_intensmap.php?id=803829&amp;f=/FELTREPORTS/80/803829/IntensityMap.png');\" onmouseout=\"info_b2('notshow','');\" onmouseover=\"info_b2('show','See the &lt;b&gt; Intensity map&lt;/b&gt;');\" style=\"background-color:#00FFFF;\">IV</span></td><td class=\"tabev6\"><b><i style=\"display:none;\">earthquake</i><a href=\"/Earthquake/earthquake.php?id=803829\">2019-11-07   18:35:26.2</a></b><i class=\"ago\" id=\"ago3\">42min ago</i></td><td class=\"tabev1\">46.32 </td><td class=\"tabev2\">N  </td><td class=\"tabev1\">7.35 </td><td class=\"tabev2\">E  </td><td class=\"tabev3\">4</td><td class=\"tabev5\" id=\"magtyp3\">ML</td><td class=\"tabev2\">3.4</td><td class=\"tb_region\" id=\"reg3\"> SWITZERLAND</td><td class=\"comment updatetimeno\" id=\"upd3\" style=\"text-align:right;\">2019-11-07 18:51</td></tr>,\n",
       " <tr class=\"ligne1 normal\" id=\"803834\" onclick=\"go_details(event,803834);\"><td class=\"tabev0\"></td><td class=\"tabev0\"></td><td class=\"tabev0\"></td><td class=\"tabev6\"><b><i style=\"display:none;\">earthquake</i><a href=\"/Earthquake/earthquake.php?id=803834\">2019-11-07   18:25:00.0</a></b><i class=\"ago\" id=\"ago4\">53min ago</i></td><td class=\"tabev1\">16.36 </td><td class=\"tabev2\">S  </td><td class=\"tabev1\">72.82 </td><td class=\"tabev2\">W  </td><td class=\"tabev3\">15</td><td class=\"tabev5\" id=\"magtyp4\"> M</td><td class=\"tabev2\">3.7</td><td class=\"tb_region\" id=\"reg4\"> NEAR COAST OF SOUTHERN PERU</td><td class=\"comment updatetimeno\" id=\"upd4\" style=\"text-align:right;\">2019-11-07 19:02</td></tr>,\n",
       " <tr class=\"ligne2 normal\" id=\"803823\" onclick=\"go_details(event,803823);\"><td class=\"tabev0\"></td><td class=\"tabev0\"></td><td class=\"tabev0\"></td><td class=\"tabev6\"><b><i style=\"display:none;\">earthquake</i><a href=\"/Earthquake/earthquake.php?id=803823\">2019-11-07   18:21:12.7</a></b><i class=\"ago\" id=\"ago5\">56min ago</i></td><td class=\"tabev1\">19.14 </td><td class=\"tabev2\">N  </td><td class=\"tabev1\">155.64 </td><td class=\"tabev2\">W  </td><td class=\"tabev3\">1</td><td class=\"tabev5\" id=\"magtyp5\">Md</td><td class=\"tabev2\">2.0</td><td class=\"tb_region\" id=\"reg5\"> ISLAND OF HAWAII, HAWAII</td><td class=\"comment updatetimeno\" id=\"upd5\" style=\"text-align:right;\">2019-11-07 18:24</td></tr>,\n",
       " <tr class=\"ligne1 normal\" id=\"803832\" onclick=\"go_details(event,803832);\"><td class=\"tabev0\"></td><td class=\"tabev0\"></td><td class=\"tabev0\"></td><td class=\"tabev6\"><b><i style=\"display:none;\">earthquake</i><a href=\"/Earthquake/earthquake.php?id=803832\">2019-11-07   18:16:30.0</a></b><i class=\"ago\" id=\"ago6\">1hr 01min ago</i></td><td class=\"tabev1\">11.30 </td><td class=\"tabev2\">N  </td><td class=\"tabev1\">86.32 </td><td class=\"tabev2\">W  </td><td class=\"tabev3\">31</td><td class=\"tabev5\" id=\"magtyp6\"> M</td><td class=\"tabev2\">3.6</td><td class=\"tb_region\" id=\"reg6\"> NEAR COAST OF NICARAGUA</td><td class=\"comment updatetimeno\" id=\"upd6\" style=\"text-align:right;\">2019-11-07 18:45</td></tr>,\n",
       " <tr class=\"ligne2 bold\" id=\"803827\" onclick=\"go_details(event,803827);\"><td class=\"tabev0\"></td><td class=\"tabev0\"></td><td class=\"tabev0\"></td><td class=\"tabev6\"><b><i style=\"display:none;\">earthquake</i><a href=\"/Earthquake/earthquake.php?id=803827\">2019-11-07   18:00:57.6</a></b><i class=\"ago\" id=\"ago7\">1hr 17min ago</i></td><td class=\"tabev1\">27.03 </td><td class=\"tabev2\">N  </td><td class=\"tabev1\">55.05 </td><td class=\"tabev2\">E  </td><td class=\"tabev3\">2</td><td class=\"tabev5\" id=\"magtyp7\">mb</td><td class=\"tabev2\">4.5</td><td class=\"tb_region\" id=\"reg7\"> SOUTHERN IRAN</td><td class=\"comment updatetimeno\" id=\"upd7\" style=\"text-align:right;\">2019-11-07 19:10</td></tr>,\n",
       " <tr class=\"ligne1 normal\" id=\"803824\" onclick=\"go_details(event,803824);\"><td class=\"tabev0\"></td><td class=\"tabev0\"></td><td class=\"tabev0\"></td><td class=\"tabev6\"><b><i style=\"display:none;\">earthquake</i><a href=\"/Earthquake/earthquake.php?id=803824\">2019-11-07   17:59:30.0</a></b><i class=\"ago\" id=\"ago8\">1hr 18min ago</i></td><td class=\"tabev1\">8.64 </td><td class=\"tabev2\">N  </td><td class=\"tabev1\">82.81 </td><td class=\"tabev2\">W  </td><td class=\"tabev3\">26</td><td class=\"tabev5\" id=\"magtyp8\"> M</td><td class=\"tabev2\">3.4</td><td class=\"tb_region\" id=\"reg8\"> PANAMA-COSTA RICA BORDER REGION</td><td class=\"comment updatetimeno\" id=\"upd8\" style=\"text-align:right;\">2019-11-07 18:32</td></tr>,\n",
       " <tr class=\"ligne2 normal\" id=\"803825\" onclick=\"go_details(event,803825);\"><td class=\"tabev0\"></td><td class=\"tabev0\"></td><td class=\"tabev0\"></td><td class=\"tabev6\"><b><i style=\"display:none;\">earthquake</i><a href=\"/Earthquake/earthquake.php?id=803825\">2019-11-07   17:54:30.0</a></b><i class=\"ago\" id=\"ago9\">1hr 23min ago</i></td><td class=\"tabev1\">11.49 </td><td class=\"tabev2\">N  </td><td class=\"tabev1\">85.98 </td><td class=\"tabev2\">W  </td><td class=\"tabev3\">170</td><td class=\"tabev5\" id=\"magtyp9\"> M</td><td class=\"tabev2\">3.6</td><td class=\"tb_region\" id=\"reg9\"> NICARAGUA</td><td class=\"comment updatetimeno\" id=\"upd9\" style=\"text-align:right;\">2019-11-07 18:32</td></tr>,\n",
       " <tr class=\"ligne1 normal\" id=\"803820\" onclick=\"go_details(event,803820);\"><td class=\"tabev0\" style=\"text-align:center;\"><a href=\"https://www.emsc-csem.org/Earthquake/Testimonies/comments.php?id=803820\" onmouseout=\"info_b2('notshow','');\" onmouseover=\"info_b2('show','See the &lt;b&gt;testimony&lt;/b&gt; for this earthquake');\"><span class=\"\" style=\"vertical-align:middle;\">1</span></a></td><td class=\"tabev0\"></td><td class=\"tabev0\"><span class=\"intensity\" onclick=\"go_details(event,null,'https://www.emsc-csem.org/Earthquake/popup_intensmap.php?id=803820&amp;f=/FELTREPORTS/80/803820/IntensityMap.png');\" onmouseout=\"info_b2('notshow','');\" onmouseover=\"info_b2('show','See the &lt;b&gt; Intensity map&lt;/b&gt;');\" style=\"background-color:#FFFFFF;\">F</span></td><td class=\"tabev6\"><b><i style=\"display:none;\">earthquake</i><a href=\"/Earthquake/earthquake.php?id=803820\">2019-11-07   17:52:17.6</a></b><i class=\"ago\" id=\"ago10\">1hr 25min ago</i></td><td class=\"tabev1\">34.27 </td><td class=\"tabev2\">N  </td><td class=\"tabev1\">119.29 </td><td class=\"tabev2\">W  </td><td class=\"tabev3\">7</td><td class=\"tabev5\" id=\"magtyp10\">Ml</td><td class=\"tabev2\">2.4</td><td class=\"tb_region\" id=\"reg10\"> SANTA BARBARA CHANNEL, CALIF.</td><td class=\"comment updatetimeno\" id=\"upd10\" style=\"text-align:right;\">2019-11-07 17:56</td></tr>,\n",
       " <tr class=\"ligne2 normal\" id=\"803826\" onclick=\"go_details(event,803826);\"><td class=\"tabev0\"></td><td class=\"tabev0\"></td><td class=\"tabev0\"></td><td class=\"tabev6\"><b><i style=\"display:none;\">earthquake</i><a href=\"/Earthquake/earthquake.php?id=803826\">2019-11-07   17:48:50.6</a></b><i class=\"ago\" id=\"ago11\">1hr 29min ago</i></td><td class=\"tabev1\">27.29 </td><td class=\"tabev2\">N  </td><td class=\"tabev1\">55.02 </td><td class=\"tabev2\">E  </td><td class=\"tabev3\">8</td><td class=\"tabev5\" id=\"magtyp11\">ML</td><td class=\"tabev2\">3.5</td><td class=\"tb_region\" id=\"reg11\"> SOUTHERN IRAN</td><td class=\"comment updatetimeno\" id=\"upd11\" style=\"text-align:right;\">2019-11-07 18:39</td></tr>,\n",
       " <tr class=\"ligne1 normal\" id=\"803821\" onclick=\"go_details(event,803821);\"><td class=\"tabev0\"></td><td class=\"tabev0\"></td><td class=\"tabev0\"></td><td class=\"tabev6\"><b><i style=\"display:none;\">earthquake</i><a href=\"/Earthquake/earthquake.php?id=803821\">2019-11-07   17:47:53.2</a></b><i class=\"ago\" id=\"ago12\">1hr 30min ago</i></td><td class=\"tabev1\">41.77 </td><td class=\"tabev2\">N  </td><td class=\"tabev1\">13.61 </td><td class=\"tabev2\">E  </td><td class=\"tabev3\">13</td><td class=\"tabev5\" id=\"magtyp12\">ML</td><td class=\"tabev2\">2.2</td><td class=\"tb_region\" id=\"reg12\"> SOUTHERN ITALY</td><td class=\"comment updatetimeno\" id=\"upd12\" style=\"text-align:right;\">2019-11-07 17:55</td></tr>,\n",
       " <tr class=\"ligne2 normal\" id=\"803817\" onclick=\"go_details(event,803817);\"><td class=\"tabev0\" style=\"text-align:center;\"><a href=\"https://www.emsc-csem.org/Earthquake/Testimonies/comments.php?id=803817\" onmouseout=\"info_b2('notshow','');\" onmouseover=\"info_b2('show','See the &lt;b&gt;146 testimonies&lt;/b&gt; for this earthquake');\"><span class=\"\" style=\"vertical-align:middle;\">146</span></a></td><td class=\"tabev0\"></td><td class=\"tabev0\"><span class=\"intensity\" onclick=\"go_details(event,null,'https://www.emsc-csem.org/Earthquake/popup_intensmap.php?id=803817&amp;f=/FELTREPORTS/80/803817/IntensityMap.png');\" onmouseout=\"info_b2('notshow','');\" onmouseover=\"info_b2('show','See the &lt;b&gt; Intensity map&lt;/b&gt;');\" style=\"background-color:#33FF00;\">V</span></td><td class=\"tabev6\"><b><i style=\"display:none;\">earthquake</i><a href=\"/Earthquake/earthquake.php?id=803817\">2019-11-07   17:35:21.7</a></b><i class=\"ago\" id=\"ago13\">1hr 42min ago</i></td><td class=\"tabev1\">41.78 </td><td class=\"tabev2\">N  </td><td class=\"tabev1\">13.61 </td><td class=\"tabev2\">E  </td><td class=\"tabev3\">14</td><td class=\"tabev5\" id=\"magtyp13\">ML</td><td class=\"tabev2\">4.4</td><td class=\"tb_region\" id=\"reg13\"> SOUTHERN ITALY</td><td class=\"comment updatetimeno\" id=\"upd13\" style=\"text-align:right;\">2019-11-07 17:57</td></tr>,\n",
       " <tr class=\"ligne1 normal\" id=\"803822\" onclick=\"go_details(event,803822);\"><td class=\"tabev0\" style=\"text-align:center;\"><a href=\"https://www.emsc-csem.org/Earthquake/Testimonies/comments.php?id=803822\" onmouseout=\"info_b2('notshow','');\" onmouseover=\"info_b2('show','See the &lt;b&gt;9 testimonies&lt;/b&gt; for this earthquake');\"><span class=\"\" style=\"vertical-align:middle;\">9</span></a></td><td class=\"tabev0\"></td><td class=\"tabev0\"><span class=\"intensity\" onclick=\"go_details(event,null,'https://www.emsc-csem.org/Earthquake/popup_intensmap.php?id=803822&amp;f=/FELTREPORTS/80/803822/IntensityMap.png');\" onmouseout=\"info_b2('notshow','');\" onmouseover=\"info_b2('show','See the &lt;b&gt; Intensity map&lt;/b&gt;');\" style=\"background-color:#00FFFF;\">IV</span></td><td class=\"tabev6\"><b><i style=\"display:none;\">earthquake</i><a href=\"/Earthquake/earthquake.php?id=803822\">2019-11-07   17:29:58.1</a></b><i class=\"ago\" id=\"ago14\">1hr 48min ago</i></td><td class=\"tabev1\">12.85 </td><td class=\"tabev2\">S  </td><td class=\"tabev1\">45.45 </td><td class=\"tabev2\">E  </td><td class=\"tabev3\">40</td><td class=\"tabev5\" id=\"magtyp14\">ML</td><td class=\"tabev2\">4.1</td><td class=\"tb_region\" id=\"reg14\"> MAYOTTE REGION</td><td class=\"comment updatetimeno\" id=\"upd14\" style=\"text-align:right;\">2019-11-07 18:10</td></tr>,\n",
       " <tr class=\"ligne2 normal\" id=\"803819\" onclick=\"go_details(event,803819);\"><td class=\"tabev0\"></td><td class=\"tabev0\"></td><td class=\"tabev0\"></td><td class=\"tabev6\"><b><i style=\"display:none;\">earthquake</i><a href=\"/Earthquake/earthquake.php?id=803819\">2019-11-07   17:18:00.0</a></b><i class=\"ago\" id=\"ago15\">2hr 00min ago</i></td><td class=\"tabev1\">12.41 </td><td class=\"tabev2\">S  </td><td class=\"tabev1\">77.18 </td><td class=\"tabev2\">W  </td><td class=\"tabev3\">33</td><td class=\"tabev5\" id=\"magtyp15\"> M</td><td class=\"tabev2\">3.6</td><td class=\"tb_region\" id=\"reg15\"> NEAR COAST OF CENTRAL PERU</td><td class=\"comment updatetimeno\" id=\"upd15\" style=\"text-align:right;\">2019-11-07 17:45</td></tr>,\n",
       " <tr class=\"ligne1 normal\" id=\"803811\" onclick=\"go_details(event,803811);\"><td class=\"tabev0\"></td><td class=\"tabev0\"></td><td class=\"tabev0\"></td><td class=\"tabev6\"><b><i style=\"display:none;\">earthquake</i><a href=\"/Earthquake/earthquake.php?id=803811\">2019-11-07   17:11:12.7</a></b><i class=\"ago\" id=\"ago16\">2hr 06min ago</i></td><td class=\"tabev1\">37.77 </td><td class=\"tabev2\">N  </td><td class=\"tabev1\">21.99 </td><td class=\"tabev2\">E  </td><td class=\"tabev3\">13</td><td class=\"tabev5\" id=\"magtyp16\">ML</td><td class=\"tabev2\">2.6</td><td class=\"tb_region\" id=\"reg16\"> SOUTHERN GREECE</td><td class=\"comment updatetimeno\" id=\"upd16\" style=\"text-align:right;\">2019-11-07 18:08</td></tr>,\n",
       " <tr class=\"ligne2 normal\" id=\"803810\" onclick=\"go_details(event,803810);\"><td class=\"tabev0\"></td><td class=\"tabev0\"></td><td class=\"tabev0\"></td><td class=\"tabev6\"><b><i style=\"display:none;\">earthquake</i><a href=\"/Earthquake/earthquake.php?id=803810\">2019-11-07   16:50:25.0</a></b><i class=\"ago\" id=\"ago17\">2hr 27min ago</i></td><td class=\"tabev1\">31.78 </td><td class=\"tabev2\">S  </td><td class=\"tabev1\">71.30 </td><td class=\"tabev2\">W  </td><td class=\"tabev3\">58</td><td class=\"tabev5\" id=\"magtyp17\">ML</td><td class=\"tabev2\">3.7</td><td class=\"tb_region\" id=\"reg17\"> COQUIMBO, CHILE</td><td class=\"comment updatetimeno\" id=\"upd17\" style=\"text-align:right;\">2019-11-07 17:05</td></tr>,\n",
       " <tr class=\"ligne1 normal\" id=\"803806\" onclick=\"go_details(event,803806);\"><td class=\"tabev0\"></td><td class=\"tabev0\"></td><td class=\"tabev0\"></td><td class=\"tabev6\"><b><i style=\"display:none;\">earthquake</i><a href=\"/Earthquake/earthquake.php?id=803806\">2019-11-07   16:24:29.1</a></b><i class=\"ago\" id=\"ago18\">2hr 53min ago</i></td><td class=\"tabev1\">39.14 </td><td class=\"tabev2\">N  </td><td class=\"tabev1\">20.61 </td><td class=\"tabev2\">E  </td><td class=\"tabev3\">8</td><td class=\"tabev5\" id=\"magtyp18\">ML</td><td class=\"tabev2\">3.1</td><td class=\"tb_region\" id=\"reg18\"> GREECE</td><td class=\"comment updatetimeno\" id=\"upd18\" style=\"text-align:right;\">2019-11-07 16:43</td></tr>,\n",
       " <tr class=\"ligne2 normal\" id=\"803802\" onclick=\"go_details(event,803802);\"><td class=\"tabev0\"></td><td class=\"tabev0\"></td><td class=\"tabev0\"></td><td class=\"tabev6\"><b><i style=\"display:none;\">earthquake</i><a href=\"/Earthquake/earthquake.php?id=803802\">2019-11-07   15:40:53.7</a></b><i class=\"ago\" id=\"ago19\">3hr 37min ago</i></td><td class=\"tabev1\">43.93 </td><td class=\"tabev2\">N  </td><td class=\"tabev1\">11.59 </td><td class=\"tabev2\">E  </td><td class=\"tabev3\">8</td><td class=\"tabev5\" id=\"magtyp19\">ML</td><td class=\"tabev2\">2.4</td><td class=\"tb_region\" id=\"reg19\"> CENTRAL ITALY</td><td class=\"comment updatetimeno\" id=\"upd19\" style=\"text-align:right;\">2019-11-07 15:54</td></tr>,\n",
       " <tr class=\"ligne1 normal\" id=\"803801\" onclick=\"go_details(event,803801);\"><td class=\"tabev0\"></td><td class=\"tabev0\"></td><td class=\"tabev0\"></td><td class=\"tabev6\"><b><i style=\"display:none;\">earthquake</i><a href=\"/Earthquake/earthquake.php?id=803801\">2019-11-07   15:40:09.0</a></b><i class=\"ago\" id=\"ago20\">3hr 37min ago</i></td><td class=\"tabev1\">31.37 </td><td class=\"tabev2\">S  </td><td class=\"tabev1\">68.55 </td><td class=\"tabev2\">W  </td><td class=\"tabev3\">99</td><td class=\"tabev5\" id=\"magtyp20\"> M</td><td class=\"tabev2\">3.6</td><td class=\"tb_region\" id=\"reg20\"> SAN JUAN, ARGENTINA</td><td class=\"comment updatetimeno\" id=\"upd20\" style=\"text-align:right;\">2019-11-07 15:45</td></tr>,\n",
       " <tr class=\"ligne2 normal\" id=\"803798\" onclick=\"go_details(event,803798);\"><td class=\"tabev0\"></td><td class=\"tabev0\"></td><td class=\"tabev0\"></td><td class=\"tabev6\"><b><i style=\"display:none;\">earthquake</i><a href=\"/Earthquake/earthquake.php?id=803798\">2019-11-07   15:14:49.0</a></b><i class=\"ago\" id=\"ago21\">4hr 03min ago</i></td><td class=\"tabev1\">21.65 </td><td class=\"tabev2\">S  </td><td class=\"tabev1\">68.63 </td><td class=\"tabev2\">W  </td><td class=\"tabev3\">128</td><td class=\"tabev5\" id=\"magtyp21\">ML</td><td class=\"tabev2\">3.0</td><td class=\"tb_region\" id=\"reg21\"> ANTOFAGASTA, CHILE</td><td class=\"comment updatetimeno\" id=\"upd21\" style=\"text-align:right;\">2019-11-07 15:27</td></tr>,\n",
       " <tr class=\"ligne1 normal\" id=\"803796\" onclick=\"go_details(event,803796);\"><td class=\"tabev0\"></td><td class=\"tabev0\"></td><td class=\"tabev0\"></td><td class=\"tabev6\"><b><i style=\"display:none;\">earthquake</i><a href=\"/Earthquake/earthquake.php?id=803796\">2019-11-07   15:08:11.6</a></b><i class=\"ago\" id=\"ago22\">4hr 09min ago</i></td><td class=\"tabev1\">42.72 </td><td class=\"tabev2\">N  </td><td class=\"tabev1\">13.23 </td><td class=\"tabev2\">E  </td><td class=\"tabev3\">13</td><td class=\"tabev5\" id=\"magtyp22\">ML</td><td class=\"tabev2\">2.3</td><td class=\"tb_region\" id=\"reg22\"> CENTRAL ITALY</td><td class=\"comment updatetimeno\" id=\"upd22\" style=\"text-align:right;\">2019-11-07 15:15</td></tr>,\n",
       " <tr class=\"ligne2 normal\" id=\"803794\" onclick=\"go_details(event,803794);\"><td class=\"tabev0\"></td><td class=\"tabev0\"></td><td class=\"tabev0\"></td><td class=\"tabev6\"><b><i style=\"display:none;\">earthquake</i><a href=\"/Earthquake/earthquake.php?id=803794\">2019-11-07   15:01:10.8</a></b><i class=\"ago\" id=\"ago23\">4hr 16min ago</i></td><td class=\"tabev1\">42.73 </td><td class=\"tabev2\">N  </td><td class=\"tabev1\">13.25 </td><td class=\"tabev2\">E  </td><td class=\"tabev3\">11</td><td class=\"tabev5\" id=\"magtyp23\">ML</td><td class=\"tabev2\">2.0</td><td class=\"tb_region\" id=\"reg23\"> CENTRAL ITALY</td><td class=\"comment updatetimeno\" id=\"upd23\" style=\"text-align:right;\">2019-11-07 15:07</td></tr>,\n",
       " <tr class=\"ligne1 normal\" id=\"803792\" onclick=\"go_details(event,803792);\"><td class=\"tabev0\" style=\"text-align:center;\"><a href=\"https://www.emsc-csem.org/Earthquake/Testimonies/comments.php?id=803792\" onmouseout=\"info_b2('notshow','');\" onmouseover=\"info_b2('show','See the &lt;b&gt;testimony&lt;/b&gt; for this earthquake');\"><span class=\"\" style=\"vertical-align:middle;\">1</span></a></td><td class=\"tabev0\"></td><td class=\"tabev0\"><span class=\"intensity\" onclick=\"go_details(event,null,'https://www.emsc-csem.org/Earthquake/popup_intensmap.php?id=803792&amp;f=/FELTREPORTS/80/803792/IntensityMap.png');\" onmouseout=\"info_b2('notshow','');\" onmouseover=\"info_b2('show','See the &lt;b&gt; Intensity map&lt;/b&gt;');\" style=\"background-color:#FFFFFF;\">F</span></td><td class=\"tabev6\"><b><i style=\"display:none;\">earthquake</i><a href=\"/Earthquake/earthquake.php?id=803792\">2019-11-07   14:54:15.5</a></b><i class=\"ago\" id=\"ago24\">4hr 23min ago</i></td><td class=\"tabev1\">34.27 </td><td class=\"tabev2\">N  </td><td class=\"tabev1\">119.29 </td><td class=\"tabev2\">W  </td><td class=\"tabev3\">7</td><td class=\"tabev5\" id=\"magtyp24\">Ml</td><td class=\"tabev2\">2.3</td><td class=\"tb_region\" id=\"reg24\"> SANTA BARBARA CHANNEL, CALIF.</td><td class=\"comment updatetimeno\" id=\"upd24\" style=\"text-align:right;\">2019-11-07 14:57</td></tr>,\n",
       " <tr class=\"ligne2 normal\" id=\"803791\" onclick=\"go_details(event,803791);\"><td class=\"tabev0\"></td><td class=\"tabev0\"></td><td class=\"tabev0\"><span class=\"intensity\" onclick=\"go_details(event,null,'https://www.emsc-csem.org/Earthquake/popup_intensmap.php?id=803791&amp;f=/FELTREPORTS/80/803791/IntensityMap.png');\" onmouseout=\"info_b2('notshow','');\" onmouseover=\"info_b2('show','See the &lt;b&gt; Intensity map&lt;/b&gt;');\" style=\"background-color:#FFFFFF;\">F</span></td><td class=\"tabev6\"><b><i style=\"display:none;\">earthquake</i><a href=\"/Earthquake/earthquake.php?id=803791\">2019-11-07   14:52:50.5</a></b><i class=\"ago\" id=\"ago25\">4hr 25min ago</i></td><td class=\"tabev1\">34.27 </td><td class=\"tabev2\">N  </td><td class=\"tabev1\">119.29 </td><td class=\"tabev2\">W  </td><td class=\"tabev3\">7</td><td class=\"tabev5\" id=\"magtyp25\">Ml</td><td class=\"tabev2\">2.4</td><td class=\"tb_region\" id=\"reg25\"> SANTA BARBARA CHANNEL, CALIF.</td><td class=\"comment updatetimeno\" id=\"upd25\" style=\"text-align:right;\">2019-11-07 14:56</td></tr>,\n",
       " <tr class=\"ligne1 normal\" id=\"803805\" onclick=\"go_details(event,803805);\"><td class=\"tabev0\"></td><td class=\"tabev0\"></td><td class=\"tabev0\"></td><td class=\"tabev6\"><b><i style=\"display:none;\">earthquake</i><a href=\"/Earthquake/earthquake.php?id=803805\">2019-11-07   14:37:54.3</a></b><i class=\"ago\" id=\"ago26\">4hr 40min ago</i></td><td class=\"tabev1\">19.12 </td><td class=\"tabev2\">N  </td><td class=\"tabev1\">67.24 </td><td class=\"tabev2\">W  </td><td class=\"tabev3\">46</td><td class=\"tabev5\" id=\"magtyp26\">Md</td><td class=\"tabev2\">2.5</td><td class=\"tb_region\" id=\"reg26\"> PUERTO RICO REGION</td><td class=\"comment updatetimeno\" id=\"upd26\" style=\"text-align:right;\">2019-11-07 16:19</td></tr>,\n",
       " <tr class=\"ligne2 normal\" id=\"803807\" onclick=\"go_details(event,803807);\"><td class=\"tabev0\"></td><td class=\"tabev0\"></td><td class=\"tabev0\"></td><td class=\"tabev6\"><b><i style=\"display:none;\">earthquake</i><a href=\"/Earthquake/earthquake.php?id=803807\">2019-11-07   14:36:33.3</a></b><i class=\"ago\" id=\"ago27\">4hr 41min ago</i></td><td class=\"tabev1\">27.15 </td><td class=\"tabev2\">N  </td><td class=\"tabev1\">55.04 </td><td class=\"tabev2\">E  </td><td class=\"tabev3\">18</td><td class=\"tabev5\" id=\"magtyp27\">ML</td><td class=\"tabev2\">3.9</td><td class=\"tb_region\" id=\"reg27\"> SOUTHERN IRAN</td><td class=\"comment updatetimeno\" id=\"upd27\" style=\"text-align:right;\">2019-11-07 16:46</td></tr>,\n",
       " <tr class=\"ligne1 normal\" id=\"803788\" onclick=\"go_details(event,803788);\"><td class=\"tabev0\" style=\"text-align:center;\"><a href=\"https://www.emsc-csem.org/Earthquake/Testimonies/comments.php?id=803788\" onmouseout=\"info_b2('notshow','');\" onmouseover=\"info_b2('show','See the &lt;b&gt;testimony&lt;/b&gt; for this earthquake');\"><span class=\"\" style=\"vertical-align:middle;\">1</span></a></td><td class=\"tabev0\"></td><td class=\"tabev0\"><span class=\"intensity\" onclick=\"go_details(event,null,'https://www.emsc-csem.org/Earthquake/popup_intensmap.php?id=803788&amp;f=/FELTREPORTS/80/803788/IntensityMap.png');\" onmouseout=\"info_b2('notshow','');\" onmouseover=\"info_b2('show','See the &lt;b&gt; Intensity map&lt;/b&gt;');\" style=\"background-color:#FFFFFF;\">F</span></td><td class=\"tabev6\"><b><i style=\"display:none;\">earthquake</i><a href=\"/Earthquake/earthquake.php?id=803788\">2019-11-07   14:33:33.7</a></b><i class=\"ago\" id=\"ago28\">4hr 44min ago</i></td><td class=\"tabev1\">34.28 </td><td class=\"tabev2\">N  </td><td class=\"tabev1\">119.29 </td><td class=\"tabev2\">W  </td><td class=\"tabev3\">11</td><td class=\"tabev5\" id=\"magtyp28\">Ml</td><td class=\"tabev2\">2.4</td><td class=\"tb_region\" id=\"reg28\"> GREATER LOS ANGELES AREA, CALIF.</td><td class=\"comment updatetimeno\" id=\"upd28\" style=\"text-align:right;\">2019-11-07 17:41</td></tr>,\n",
       " <tr class=\"ligne2 normal\" id=\"803795\" onclick=\"go_details(event,803795);\"><td class=\"tabev0\"></td><td class=\"tabev0\"></td><td class=\"tabev0\"></td><td class=\"tabev6\"><b><i style=\"display:none;\">earthquake</i><a href=\"/Earthquake/earthquake.php?id=803795\">2019-11-07   14:33:33.0</a></b><i class=\"ago\" id=\"ago29\">4hr 44min ago</i></td><td class=\"tabev1\">19.80 </td><td class=\"tabev2\">N  </td><td class=\"tabev1\">69.83 </td><td class=\"tabev2\">W  </td><td class=\"tabev3\">12</td><td class=\"tabev5\" id=\"magtyp29\"> M</td><td class=\"tabev2\">3.0</td><td class=\"tb_region\" id=\"reg29\"> DOMINICAN REPUBLIC REGION</td><td class=\"comment updatetimeno\" id=\"upd29\" style=\"text-align:right;\">2019-11-07 15:12</td></tr>,\n",
       " <tr class=\"ligne1 normal\" id=\"803786\" onclick=\"go_details(event,803786);\"><td class=\"tabev0\"></td><td class=\"tabev0\"></td><td class=\"tabev0\"></td><td class=\"tabev6\"><b><i style=\"display:none;\">earthquake</i><a href=\"/Earthquake/earthquake.php?id=803786\">2019-11-07   14:21:48.6</a></b><i class=\"ago\" id=\"ago30\">4hr 56min ago</i></td><td class=\"tabev1\">3.98 </td><td class=\"tabev2\">S  </td><td class=\"tabev1\">104.01 </td><td class=\"tabev2\">W  </td><td class=\"tabev3\">10</td><td class=\"tabev5\" id=\"magtyp30\">mb</td><td class=\"tabev2\">4.8</td><td class=\"tb_region\" id=\"reg30\"> CENTRAL EAST PACIFIC RISE</td><td class=\"comment updatetimeno\" id=\"upd30\" style=\"text-align:right;\">2019-11-07 14:42</td></tr>,\n",
       " <tr class=\"ligne2 normal\" id=\"803793\" onclick=\"go_details(event,803793);\"><td class=\"tabev0\"></td><td class=\"tabev0\"></td><td class=\"tabev0\"></td><td class=\"tabev6\"><b><i style=\"display:none;\">earthquake</i><a href=\"/Earthquake/earthquake.php?id=803793\">2019-11-07   13:34:38.1</a></b><i class=\"ago\" id=\"ago31\">5hr 43min ago</i></td><td class=\"tabev1\">59.02 </td><td class=\"tabev2\">N  </td><td class=\"tabev1\">152.18 </td><td class=\"tabev2\">W  </td><td class=\"tabev3\">65</td><td class=\"tabev5\" id=\"magtyp31\">ML</td><td class=\"tabev2\">2.5</td><td class=\"tb_region\" id=\"reg31\"> SOUTHERN ALASKA</td><td class=\"comment updatetimeno\" id=\"upd31\" style=\"text-align:right;\">2019-11-07 14:57</td></tr>,\n",
       " <tr class=\"ligne1 normal\" id=\"803770\" onclick=\"go_details(event,803770);\"><td class=\"tabev0\" style=\"text-align:center;\"><a href=\"https://www.emsc-csem.org/Earthquake/Testimonies/comments.php?id=803770\" onmouseout=\"info_b2('notshow','');\" onmouseover=\"info_b2('show','See the &lt;b&gt;testimony&lt;/b&gt; for this earthquake');\"><span class=\"\" style=\"vertical-align:middle;\">1</span></a></td><td class=\"tabev0\"></td><td class=\"tabev0\"><span class=\"intensity\" onclick=\"go_details(event,null,'https://www.emsc-csem.org/Earthquake/popup_intensmap.php?id=803770&amp;f=/FELTREPORTS/80/803770/IntensityMap.png');\" onmouseout=\"info_b2('notshow','');\" onmouseover=\"info_b2('show','See the &lt;b&gt; Intensity map&lt;/b&gt;');\" style=\"background-color:#FFFFFF;\">F</span></td><td class=\"tabev6\"><b><i style=\"display:none;\">earthquake</i><a href=\"/Earthquake/earthquake.php?id=803770\">2019-11-07   13:30:57.8</a></b><i class=\"ago\" id=\"ago32\">5hr 47min ago</i></td><td class=\"tabev1\">34.27 </td><td class=\"tabev2\">N  </td><td class=\"tabev1\">119.30 </td><td class=\"tabev2\">W  </td><td class=\"tabev3\">3</td><td class=\"tabev5\" id=\"magtyp32\">Ml</td><td class=\"tabev2\">2.1</td><td class=\"tb_region\" id=\"reg32\"> SANTA BARBARA CHANNEL, CALIF.</td><td class=\"comment updatetimeno\" id=\"upd32\" style=\"text-align:right;\">2019-11-07 13:33</td></tr>,\n",
       " <tr class=\"ligne2 normal\" id=\"803767\" onclick=\"go_details(event,803767);\"><td class=\"tabev0\"></td><td class=\"tabev0\"></td><td class=\"tabev0\"></td><td class=\"tabev6\"><b><i style=\"display:none;\">earthquake</i><a href=\"/Earthquake/earthquake.php?id=803767\">2019-11-07   13:28:52.7</a></b><i class=\"ago\" id=\"ago33\">5hr 49min ago</i></td><td class=\"tabev1\">36.69 </td><td class=\"tabev2\">N  </td><td class=\"tabev1\">98.44 </td><td class=\"tabev2\">W  </td><td class=\"tabev3\">7</td><td class=\"tabev5\" id=\"magtyp33\">ML</td><td class=\"tabev2\">2.4</td><td class=\"tb_region\" id=\"reg33\"> OKLAHOMA</td><td class=\"comment updatetimeno\" id=\"upd33\" style=\"text-align:right;\">2019-11-07 16:14</td></tr>,\n",
       " <tr class=\"ligne1 normal\" id=\"803768\" onclick=\"go_details(event,803768);\"><td class=\"tabev0\"></td><td class=\"tabev0\"></td><td class=\"tabev0\"></td><td class=\"tabev6\"><b><i style=\"display:none;\">earthquake</i><a href=\"/Earthquake/earthquake.php?id=803768\">2019-11-07   13:25:35.3</a></b><i class=\"ago\" id=\"ago34\">5hr 52min ago</i></td><td class=\"tabev1\">46.26 </td><td class=\"tabev2\">N  </td><td class=\"tabev1\">7.01 </td><td class=\"tabev2\">E  </td><td class=\"tabev3\">1</td><td class=\"tabev5\" id=\"magtyp34\">ML</td><td class=\"tabev2\">1.5</td><td class=\"tb_region\" id=\"reg34\"> SWITZERLAND</td><td class=\"comment updatetimeno\" id=\"upd34\" style=\"text-align:right;\">2019-11-07 13:31</td></tr>,\n",
       " <tr class=\"ligne2 normal\" id=\"803765\" onclick=\"go_details(event,803765);\"><td class=\"tabev0\" style=\"text-align:center;\"><a href=\"https://www.emsc-csem.org/Earthquake/Testimonies/comments.php?id=803765\" onmouseout=\"info_b2('notshow','');\" onmouseover=\"info_b2('show','See the &lt;b&gt;testimony&lt;/b&gt; for this earthquake');\"><span class=\"\" style=\"vertical-align:middle;\">1</span></a></td><td class=\"tabev0\"></td><td class=\"tabev0\"><span class=\"intensity\" onclick=\"go_details(event,null,'https://www.emsc-csem.org/Earthquake/popup_intensmap.php?id=803765&amp;f=/FELTREPORTS/80/803765/IntensityMap.png');\" onmouseout=\"info_b2('notshow','');\" onmouseover=\"info_b2('show','See the &lt;b&gt; Intensity map&lt;/b&gt;');\" style=\"background-color:#FFFFFF;\">F</span></td><td class=\"tabev6\"><b><i style=\"display:none;\">earthquake</i><a href=\"/Earthquake/earthquake.php?id=803765\">2019-11-07   13:19:44.8</a></b><i class=\"ago\" id=\"ago35\">5hr 58min ago</i></td><td class=\"tabev1\">34.27 </td><td class=\"tabev2\">N  </td><td class=\"tabev1\">119.29 </td><td class=\"tabev2\">W  </td><td class=\"tabev3\">7</td><td class=\"tabev5\" id=\"magtyp35\">Ml</td><td class=\"tabev2\">2.2</td><td class=\"tb_region\" id=\"reg35\"> SANTA BARBARA CHANNEL, CALIF.</td><td class=\"comment updatetimeno\" id=\"upd35\" style=\"text-align:right;\">2019-11-07 13:23</td></tr>,\n",
       " <tr class=\"ligne1 normal\" id=\"803769\" onclick=\"go_details(event,803769);\"><td class=\"tabev0\"></td><td class=\"tabev0\"></td><td class=\"tabev0\"></td><td class=\"tabev6\"><b><i style=\"display:none;\">earthquake</i><a href=\"/Earthquake/earthquake.php?id=803769\">2019-11-07   13:16:11.0</a></b><i class=\"ago\" id=\"ago36\">6hr 01min ago</i></td><td class=\"tabev1\">12.97 </td><td class=\"tabev2\">N  </td><td class=\"tabev1\">89.06 </td><td class=\"tabev2\">W  </td><td class=\"tabev3\">48</td><td class=\"tabev5\" id=\"magtyp36\"> M</td><td class=\"tabev2\">3.8</td><td class=\"tb_region\" id=\"reg36\"> OFFSHORE EL SALVADOR</td><td class=\"comment updatetimeno\" id=\"upd36\" style=\"text-align:right;\">2019-11-07 13:30</td></tr>,\n",
       " <tr class=\"ligne2 normal\" id=\"803763\" onclick=\"go_details(event,803763);\"><td class=\"tabev0\"></td><td class=\"tabev0\"></td><td class=\"tabev0\"></td><td class=\"tabev6\"><b><i style=\"display:none;\">earthquake</i><a href=\"/Earthquake/earthquake.php?id=803763\">2019-11-07   13:07:32.2</a></b><i class=\"ago\" id=\"ago37\">6hr 10min ago</i></td><td class=\"tabev1\">29.17 </td><td class=\"tabev2\">S  </td><td class=\"tabev1\">12.87 </td><td class=\"tabev2\">W  </td><td class=\"tabev3\">10</td><td class=\"tabev5\" id=\"magtyp37\">mb</td><td class=\"tabev2\">5.0</td><td class=\"tb_region\" id=\"reg37\"> SOUTHERN MID-ATLANTIC RIDGE</td><td class=\"comment updatetimeno\" id=\"upd37\" style=\"text-align:right;\">2019-11-07 15:52</td></tr>,\n",
       " <tr class=\"ligne1 normal\" id=\"803762\" onclick=\"go_details(event,803762);\"><td class=\"tabev0\" style=\"text-align:center;\"><a href=\"https://www.emsc-csem.org/Earthquake/Testimonies/comments.php?id=803762\" onmouseout=\"info_b2('notshow','');\" onmouseover=\"info_b2('show','See the &lt;b&gt;25 testimonies&lt;/b&gt; for this earthquake');\"><span class=\"\" style=\"vertical-align:middle;\">25</span></a></td><td class=\"tabev0\"></td><td class=\"tabev0\"><span class=\"intensity\" onclick=\"go_details(event,null,'https://www.emsc-csem.org/Earthquake/popup_intensmap.php?id=803762&amp;f=/FELTREPORTS/80/803762/IntensityMap.png');\" onmouseout=\"info_b2('notshow','');\" onmouseover=\"info_b2('show','See the &lt;b&gt; Intensity map&lt;/b&gt;');\" style=\"background-color:#00FFFF;\">IV</span></td><td class=\"tabev6\"><b><i style=\"display:none;\">earthquake</i><a href=\"/Earthquake/earthquake.php?id=803762\">2019-11-07   13:05:39.4</a></b><i class=\"ago\" id=\"ago38\">6hr 12min ago</i></td><td class=\"tabev1\">34.28 </td><td class=\"tabev2\">N  </td><td class=\"tabev1\">119.29 </td><td class=\"tabev2\">W  </td><td class=\"tabev3\">15</td><td class=\"tabev5\" id=\"magtyp38\">ML</td><td class=\"tabev2\">3.4</td><td class=\"tb_region\" id=\"reg38\"> GREATER LOS ANGELES AREA, CALIF.</td><td class=\"comment updatetimeno\" id=\"upd38\" style=\"text-align:right;\">2019-11-07 15:14</td></tr>,\n",
       " <tr class=\"ligne2 normal\" id=\"803771\" onclick=\"go_details(event,803771);\"><td class=\"tabev0\"></td><td class=\"tabev0\"></td><td class=\"tabev0\"></td><td class=\"tabev6\"><b><i style=\"display:none;\">earthquake</i><a href=\"/Earthquake/earthquake.php?id=803771\">2019-11-07   12:59:43.3</a></b><i class=\"ago\" id=\"ago39\">6hr 18min ago</i></td><td class=\"tabev1\">38.13 </td><td class=\"tabev2\">N  </td><td class=\"tabev1\">38.77 </td><td class=\"tabev2\">E  </td><td class=\"tabev3\">7</td><td class=\"tabev5\" id=\"magtyp39\">ML</td><td class=\"tabev2\">2.1</td><td class=\"tb_region\" id=\"reg39\"> EASTERN TURKEY</td><td class=\"comment updatetimeno\" id=\"upd39\" style=\"text-align:right;\">2019-11-07 13:37</td></tr>,\n",
       " <tr class=\"ligne1 normal\" id=\"803760\" onclick=\"go_details(event,803760);\"><td class=\"tabev0\" style=\"text-align:center;\"><a href=\"https://www.emsc-csem.org/Earthquake/Testimonies/comments.php?id=803760\" onmouseout=\"info_b2('notshow','');\" onmouseover=\"info_b2('show','See the &lt;b&gt;8 testimonies&lt;/b&gt; for this earthquake');\"><span class=\"\" style=\"vertical-align:middle;\">8</span></a></td><td class=\"tabev0\"></td><td class=\"tabev0\"><span class=\"intensity\" onclick=\"go_details(event,null,'https://www.emsc-csem.org/Earthquake/popup_intensmap.php?id=803760&amp;f=/FELTREPORTS/80/803760/IntensityMap.png');\" onmouseout=\"info_b2('notshow','');\" onmouseover=\"info_b2('show','See the &lt;b&gt; Intensity map&lt;/b&gt;');\" style=\"background-color:#00FFFF;\">IV</span></td><td class=\"tabev6\"><b><i style=\"display:none;\">earthquake</i><a href=\"/Earthquake/earthquake.php?id=803760\">2019-11-07   12:58:41.6</a></b><i class=\"ago\" id=\"ago40\">6hr 19min ago</i></td><td class=\"tabev1\">34.27 </td><td class=\"tabev2\">N  </td><td class=\"tabev1\">119.29 </td><td class=\"tabev2\">W  </td><td class=\"tabev3\">11</td><td class=\"tabev5\" id=\"magtyp40\">Ml</td><td class=\"tabev2\">3.2</td><td class=\"tb_region\" id=\"reg40\"> SANTA BARBARA CHANNEL, CALIF.</td><td class=\"comment updatetimeno\" id=\"upd40\" style=\"text-align:right;\">2019-11-07 15:37</td></tr>,\n",
       " <tr class=\"ligne2 normal\" id=\"803761\" onclick=\"go_details(event,803761);\"><td class=\"tabev0\"></td><td class=\"tabev0\"></td><td class=\"tabev0\"></td><td class=\"tabev6\"><b><i style=\"display:none;\">earthquake</i><a href=\"/Earthquake/earthquake.php?id=803761\">2019-11-07   12:50:40.0</a></b><i class=\"ago\" id=\"ago41\">6hr 27min ago</i></td><td class=\"tabev1\">9.86 </td><td class=\"tabev2\">N  </td><td class=\"tabev1\">126.28 </td><td class=\"tabev2\">E  </td><td class=\"tabev3\">15</td><td class=\"tabev5\" id=\"magtyp41\"> M</td><td class=\"tabev2\">4.2</td><td class=\"tb_region\" id=\"reg41\"> MINDANAO, PHILIPPINES</td><td class=\"comment updatetimeno\" id=\"upd41\" style=\"text-align:right;\">2019-11-07 13:00</td></tr>,\n",
       " <tr class=\"ligne1 normal\" id=\"803758\" onclick=\"go_details(event,803758);\"><td class=\"tabev0\" style=\"text-align:center;\"><a href=\"https://www.emsc-csem.org/Earthquake/Testimonies/comments.php?id=803758\" onmouseout=\"info_b2('notshow','');\" onmouseover=\"info_b2('show','See the &lt;b&gt;18 testimonies&lt;/b&gt; for this earthquake');\"><span class=\"\" style=\"vertical-align:middle;\">18</span></a></td><td class=\"tabev0\"></td><td class=\"tabev0\"><span class=\"intensity\" onclick=\"go_details(event,null,'https://www.emsc-csem.org/Earthquake/popup_intensmap.php?id=803758&amp;f=/FELTREPORTS/80/803758/IntensityMap.png');\" onmouseout=\"info_b2('notshow','');\" onmouseover=\"info_b2('show','See the &lt;b&gt; Intensity map&lt;/b&gt;');\" style=\"background-color:#00FFFF;\">IV</span></td><td class=\"tabev6\"><b><i style=\"display:none;\">earthquake</i><a href=\"/Earthquake/earthquake.php?id=803758\">2019-11-07   12:38:59.6</a></b><i class=\"ago\" id=\"ago42\">6hr 39min ago</i></td><td class=\"tabev1\">35.75 </td><td class=\"tabev2\">N  </td><td class=\"tabev1\">117.59 </td><td class=\"tabev2\">W  </td><td class=\"tabev3\">8</td><td class=\"tabev5\" id=\"magtyp42\">Ml</td><td class=\"tabev2\">3.5</td><td class=\"tb_region\" id=\"reg42\"> SOUTHERN CALIFORNIA</td><td class=\"comment updatetimeno\" id=\"upd42\" style=\"text-align:right;\">2019-11-07 15:49</td></tr>,\n",
       " <tr class=\"ligne2 normal\" id=\"803755\" onclick=\"go_details(event,803755);\"><td class=\"tabev0\"></td><td class=\"tabev0\"></td><td class=\"tabev0\"></td><td class=\"tabev6\"><b><i style=\"display:none;\">earthquake</i><a href=\"/Earthquake/earthquake.php?id=803755\">2019-11-07   12:02:16.7</a></b><i class=\"ago\" id=\"ago43\">7hr 15min ago</i></td><td class=\"tabev1\">19.16 </td><td class=\"tabev2\">N  </td><td class=\"tabev1\">155.46 </td><td class=\"tabev2\">W  </td><td class=\"tabev3\">33</td><td class=\"tabev5\" id=\"magtyp43\">Ml</td><td class=\"tabev2\">2.5</td><td class=\"tb_region\" id=\"reg43\"> ISLAND OF HAWAII, HAWAII</td><td class=\"comment updatetimeno\" id=\"upd43\" style=\"text-align:right;\">2019-11-07 12:08</td></tr>,\n",
       " <tr class=\"ligne1 normal\" id=\"803754\" onclick=\"go_details(event,803754);\"><td class=\"tabev0\"></td><td class=\"tabev0\"></td><td class=\"tabev0\"></td><td class=\"tabev6\"><b><i style=\"display:none;\">earthquake</i><a href=\"/Earthquake/earthquake.php?id=803754\">2019-11-07   11:58:33.9</a></b><i class=\"ago\" id=\"ago44\">7hr 19min ago</i></td><td class=\"tabev1\">46.76 </td><td class=\"tabev2\">N  </td><td class=\"tabev1\">10.17 </td><td class=\"tabev2\">E  </td><td class=\"tabev3\">8</td><td class=\"tabev5\" id=\"magtyp44\">ML</td><td class=\"tabev2\">1.6</td><td class=\"tb_region\" id=\"reg44\"> SWITZERLAND</td><td class=\"comment updatetimeno\" id=\"upd44\" style=\"text-align:right;\">2019-11-07 16:28</td></tr>,\n",
       " <tr class=\"ligne2 normal\" id=\"803750\" onclick=\"go_details(event,803750);\"><td class=\"tabev0\"></td><td class=\"tabev0\"></td><td class=\"tabev0\"></td><td class=\"tabev6\"><b><i style=\"display:none;\">earthquake</i><a href=\"/Earthquake/earthquake.php?id=803750\">2019-11-07   11:06:50.0</a></b><i class=\"ago\" id=\"ago45\">8hr 11min ago</i></td><td class=\"tabev1\">18.17 </td><td class=\"tabev2\">S  </td><td class=\"tabev1\">69.69 </td><td class=\"tabev2\">W  </td><td class=\"tabev3\">100</td><td class=\"tabev5\" id=\"magtyp45\">ML</td><td class=\"tabev2\">3.3</td><td class=\"tb_region\" id=\"reg45\"> TARAPACA, CHILE</td><td class=\"comment updatetimeno\" id=\"upd45\" style=\"text-align:right;\">2019-11-07 11:33</td></tr>,\n",
       " <tr class=\"ligne1 normal\" id=\"803749\" onclick=\"go_details(event,803749);\"><td class=\"tabev0\"></td><td class=\"tabev0\"></td><td class=\"tabev0\"></td><td class=\"tabev6\"><b><i style=\"display:none;\">earthquake</i><a href=\"/Earthquake/earthquake.php?id=803749\">2019-11-07   11:02:12.0</a></b><i class=\"ago\" id=\"ago46\">8hr 15min ago</i></td><td class=\"tabev1\">35.22 </td><td class=\"tabev2\">S  </td><td class=\"tabev1\">72.41 </td><td class=\"tabev2\">W  </td><td class=\"tabev3\">40</td><td class=\"tabev5\" id=\"magtyp46\">ML</td><td class=\"tabev2\">3.6</td><td class=\"tb_region\" id=\"reg46\"> OFFSHORE MAULE, CHILE</td><td class=\"comment updatetimeno\" id=\"upd46\" style=\"text-align:right;\">2019-11-07 11:18</td></tr>,\n",
       " <tr class=\"ligne2 normal\" id=\"803764\" onclick=\"go_details(event,803764);\"><td class=\"tabev0\"></td><td class=\"tabev0\"></td><td class=\"tabev0\"></td><td class=\"tabev6\"><b><i style=\"display:none;\">earthquake</i><a href=\"/Earthquake/earthquake.php?id=803764\">2019-11-07   11:01:51.3</a></b><i class=\"ago\" id=\"ago47\">8hr 16min ago</i></td><td class=\"tabev1\">45.77 </td><td class=\"tabev2\">N  </td><td class=\"tabev1\">26.82 </td><td class=\"tabev2\">E  </td><td class=\"tabev3\">70</td><td class=\"tabev5\" id=\"magtyp47\">ML</td><td class=\"tabev2\">2.7</td><td class=\"tb_region\" id=\"reg47\"> ROMANIA</td><td class=\"comment updatetimeno\" id=\"upd47\" style=\"text-align:right;\">2019-11-07 13:19</td></tr>,\n",
       " <tr class=\"ligne1 normal\" id=\"803747\" onclick=\"go_details(event,803747);\"><td class=\"tabev0\"></td><td class=\"tabev0\"></td><td class=\"tabev0\"></td><td class=\"tabev6\"><b><i style=\"display:none;\">earthquake</i><a href=\"/Earthquake/earthquake.php?id=803747\">2019-11-07   11:00:29.5</a></b><i class=\"ago\" id=\"ago48\">8hr 17min ago</i></td><td class=\"tabev1\">19.16 </td><td class=\"tabev2\">N  </td><td class=\"tabev1\">155.47 </td><td class=\"tabev2\">W  </td><td class=\"tabev3\">36</td><td class=\"tabev5\" id=\"magtyp48\">Md</td><td class=\"tabev2\">2.6</td><td class=\"tb_region\" id=\"reg48\"> ISLAND OF HAWAII, HAWAII</td><td class=\"comment updatetimeno\" id=\"upd48\" style=\"text-align:right;\">2019-11-07 11:03</td></tr>,\n",
       " <tr class=\"ligne2 normal\" id=\"803746\" onclick=\"go_details(event,803746);\"><td class=\"tabev0\"></td><td class=\"tabev0\"></td><td class=\"tabev0\"></td><td class=\"tabev6\"><b><i style=\"display:none;\">earthquake</i><a href=\"/Earthquake/earthquake.php?id=803746\">2019-11-07   10:48:21.3</a></b><i class=\"ago\" id=\"ago49\">8hr 29min ago</i></td><td class=\"tabev1\">47.54 </td><td class=\"tabev2\">N  </td><td class=\"tabev1\">8.18 </td><td class=\"tabev2\">E  </td><td class=\"tabev3\">0</td><td class=\"tabev5\" id=\"magtyp49\">ML</td><td class=\"tabev2\">2.0</td><td class=\"tb_region\" id=\"reg49\"> SWITZERLAND</td><td class=\"comment updatetimeno\" id=\"upd49\" style=\"text-align:right;\">2019-11-07 10:55</td></tr>]"
      ]
     },
     "execution_count": 288,
     "metadata": {},
     "output_type": "execute_result"
    }
   ],
   "source": [
    "soupmoto = soup6.select(\"tbody tr\")\n",
    "soupmoto"
   ]
  },
  {
   "cell_type": "code",
   "execution_count": 300,
   "metadata": {},
   "outputs": [
    {
     "ename": "TypeError",
     "evalue": "'NoneType' object is not callable",
     "output_type": "error",
     "traceback": [
      "\u001b[0;31m---------------------------------------------------------------------------\u001b[0m",
      "\u001b[0;31mTypeError\u001b[0m                                 Traceback (most recent call last)",
      "\u001b[0;32m<ipython-input-300-5a76556ff3fa>\u001b[0m in \u001b[0;36m<module>\u001b[0;34m\u001b[0m\n\u001b[1;32m      4\u001b[0m     terremoto = {\n\u001b[1;32m      5\u001b[0m         \u001b[0;34m\"date\"\u001b[0m\u001b[0;34m:\u001b[0m \u001b[0mceldas\u001b[0m\u001b[0;34m[\u001b[0m\u001b[0;36m3\u001b[0m\u001b[0;34m]\u001b[0m\u001b[0;34m.\u001b[0m\u001b[0mfind\u001b[0m\u001b[0;34m(\u001b[0m\u001b[0;34m'a'\u001b[0m\u001b[0;34m)\u001b[0m\u001b[0;34m.\u001b[0m\u001b[0mtext\u001b[0m\u001b[0;34m.\u001b[0m\u001b[0mstrip\u001b[0m\u001b[0;34m(\u001b[0m\u001b[0;34m)\u001b[0m\u001b[0;34m,\u001b[0m\u001b[0;34m\u001b[0m\u001b[0;34m\u001b[0m\u001b[0m\n\u001b[0;32m----> 6\u001b[0;31m         \u001b[0;34m\"latitude\"\u001b[0m\u001b[0;34m:\u001b[0m \u001b[0mceldas\u001b[0m\u001b[0;34m[\u001b[0m\u001b[0;36m4\u001b[0m\u001b[0;34m]\u001b[0m\u001b[0;34m.\u001b[0m\u001b[0mrefindall\u001b[0m\u001b[0;34m(\u001b[0m\u001b[0;34m'\\d{2}\\.\\d{2}'\u001b[0m\u001b[0;34m)\u001b[0m\u001b[0;34m.\u001b[0m\u001b[0mstrip\u001b[0m\u001b[0;34m(\u001b[0m\u001b[0;34m)\u001b[0m\u001b[0;34m,\u001b[0m\u001b[0;34m\u001b[0m\u001b[0;34m\u001b[0m\u001b[0m\n\u001b[0m\u001b[1;32m      7\u001b[0m         \u001b[0;34m\"longitude\"\u001b[0m\u001b[0;34m:\u001b[0m \u001b[0mceldas\u001b[0m\u001b[0;34m[\u001b[0m\u001b[0;36m6\u001b[0m\u001b[0;34m]\u001b[0m\u001b[0;34m.\u001b[0m\u001b[0mfind\u001b[0m\u001b[0;34m(\u001b[0m\u001b[0;34m'>'\u001b[0m\u001b[0;34m)\u001b[0m\u001b[0;34m.\u001b[0m\u001b[0mtext\u001b[0m\u001b[0;34m.\u001b[0m\u001b[0mstrip\u001b[0m\u001b[0;34m(\u001b[0m\u001b[0;34m)\u001b[0m\u001b[0;34m,\u001b[0m\u001b[0;34m\u001b[0m\u001b[0;34m\u001b[0m\u001b[0m\n\u001b[1;32m      8\u001b[0m         \u001b[0;34m\"region\"\u001b[0m\u001b[0;34m:\u001b[0m \u001b[0mceldas\u001b[0m\u001b[0;34m[\u001b[0m\u001b[0;36m10\u001b[0m\u001b[0;34m]\u001b[0m\u001b[0;34m.\u001b[0m\u001b[0mfind\u001b[0m\u001b[0;34m(\u001b[0m\u001b[0;34m'a'\u001b[0m\u001b[0;34m)\u001b[0m\u001b[0;34m.\u001b[0m\u001b[0mtext\u001b[0m\u001b[0;34m.\u001b[0m\u001b[0mstrip\u001b[0m\u001b[0;34m(\u001b[0m\u001b[0;34m)\u001b[0m\u001b[0;34m\u001b[0m\u001b[0;34m\u001b[0m\u001b[0m\n",
      "\u001b[0;31mTypeError\u001b[0m: 'NoneType' object is not callable"
     ]
    }
   ],
   "source": [
    "terremotos = []\n",
    "for fila in soupmoto:\n",
    "    celdas = fila.find_all('td')\n",
    "    terremoto = {\n",
    "        \"date\": celdas[3].find('a').text.strip(),\n",
    "        \"latitude\": celdas[4].refindall('\\d{2}\\.\\d{2}').strip(),\n",
    "        \"longitude\": celdas[6].find('>').text.strip(),\n",
    "        \"region\": celdas[10].find('a').text.strip()        \n",
    "    }\n",
    "    terremotos.append(terremoto)"
   ]
  },
  {
   "cell_type": "code",
   "execution_count": 299,
   "metadata": {},
   "outputs": [
    {
     "data": {
      "text/plain": [
       "<td class=\"tabev1\">35.72 </td>"
      ]
     },
     "execution_count": 299,
     "metadata": {},
     "output_type": "execute_result"
    }
   ],
   "source": [
    "celdas[4]"
   ]
  },
  {
   "cell_type": "markdown",
   "metadata": {},
   "source": [
    "#### Display the date, days, title, city, country of next 25 hackathon events as a Pandas dataframe table"
   ]
  },
  {
   "cell_type": "code",
   "execution_count": null,
   "metadata": {},
   "outputs": [],
   "source": [
    "# This is the url you will scrape in this exercise\n",
    "url ='https://hackevents.co/hackathons'"
   ]
  },
  {
   "cell_type": "code",
   "execution_count": null,
   "metadata": {},
   "outputs": [],
   "source": [
    "#your code"
   ]
  },
  {
   "cell_type": "markdown",
   "metadata": {},
   "source": [
    "#### Count number of tweets by a given Twitter account."
   ]
  },
  {
   "cell_type": "markdown",
   "metadata": {},
   "source": [
    "You will need to include a ***try/except block*** for account names not found. \n",
    "<br>***Hint:*** the program should count the number of tweets for any provided account"
   ]
  },
  {
   "cell_type": "code",
   "execution_count": null,
   "metadata": {},
   "outputs": [],
   "source": [
    "# This is the url you will scrape in this exercise \n",
    "# You will need to add the account credentials to this url\n",
    "url = 'https://twitter.com/'"
   ]
  },
  {
   "cell_type": "code",
   "execution_count": null,
   "metadata": {},
   "outputs": [],
   "source": [
    "#your code"
   ]
  },
  {
   "cell_type": "markdown",
   "metadata": {},
   "source": [
    "#### Number of followers of a given twitter account"
   ]
  },
  {
   "cell_type": "markdown",
   "metadata": {},
   "source": [
    "You will need to include a ***try/except block*** in case account/s name not found. \n",
    "<br>***Hint:*** the program should count the followers for any provided account"
   ]
  },
  {
   "cell_type": "code",
   "execution_count": null,
   "metadata": {},
   "outputs": [],
   "source": [
    "# This is the url you will scrape in this exercise \n",
    "# You will need to add the account credentials to this url\n",
    "url = 'https://twitter.com/'"
   ]
  },
  {
   "cell_type": "code",
   "execution_count": null,
   "metadata": {},
   "outputs": [],
   "source": [
    "#your code"
   ]
  },
  {
   "cell_type": "markdown",
   "metadata": {},
   "source": [
    "#### List all language names and number of related articles in the order they appear in wikipedia.org"
   ]
  },
  {
   "cell_type": "code",
   "execution_count": null,
   "metadata": {},
   "outputs": [],
   "source": [
    "# This is the url you will scrape in this exercise\n",
    "url = 'https://www.wikipedia.org/'"
   ]
  },
  {
   "cell_type": "code",
   "execution_count": null,
   "metadata": {},
   "outputs": [],
   "source": [
    "#your code"
   ]
  },
  {
   "cell_type": "markdown",
   "metadata": {},
   "source": [
    "#### A list with the different kind of datasets available in data.gov.uk "
   ]
  },
  {
   "cell_type": "code",
   "execution_count": null,
   "metadata": {},
   "outputs": [],
   "source": [
    "# This is the url you will scrape in this exercise\n",
    "url = 'https://data.gov.uk/'"
   ]
  },
  {
   "cell_type": "code",
   "execution_count": null,
   "metadata": {},
   "outputs": [],
   "source": [
    "#your code "
   ]
  },
  {
   "cell_type": "markdown",
   "metadata": {},
   "source": [
    "#### Top 10 languages by number of native speakers stored in a Pandas Dataframe"
   ]
  },
  {
   "cell_type": "code",
   "execution_count": null,
   "metadata": {},
   "outputs": [],
   "source": [
    "# This is the url you will scrape in this exercise\n",
    "url = 'https://en.wikipedia.org/wiki/List_of_languages_by_number_of_native_speakers'"
   ]
  },
  {
   "cell_type": "code",
   "execution_count": null,
   "metadata": {},
   "outputs": [],
   "source": [
    "#your code"
   ]
  },
  {
   "cell_type": "markdown",
   "metadata": {},
   "source": [
    "### BONUS QUESTIONS"
   ]
  },
  {
   "cell_type": "markdown",
   "metadata": {},
   "source": [
    "#### Scrape a certain number of tweets of a given Twitter account."
   ]
  },
  {
   "cell_type": "code",
   "execution_count": null,
   "metadata": {},
   "outputs": [],
   "source": [
    "# This is the url you will scrape in this exercise \n",
    "# You will need to add the account credentials to this url\n",
    "url = 'https://twitter.com/'"
   ]
  },
  {
   "cell_type": "code",
   "execution_count": null,
   "metadata": {},
   "outputs": [],
   "source": [
    "# your code"
   ]
  },
  {
   "cell_type": "markdown",
   "metadata": {},
   "source": [
    "#### IMDB's Top 250 data (movie name, Initial release, director name and stars) as a pandas dataframe"
   ]
  },
  {
   "cell_type": "code",
   "execution_count": null,
   "metadata": {},
   "outputs": [],
   "source": [
    "# This is the url you will scrape in this exercise \n",
    "url = 'https://www.imdb.com/chart/top'"
   ]
  },
  {
   "cell_type": "code",
   "execution_count": null,
   "metadata": {},
   "outputs": [],
   "source": [
    "# your code"
   ]
  },
  {
   "cell_type": "markdown",
   "metadata": {},
   "source": [
    "#### Movie name, year and a brief summary of the top 10 random movies (IMDB) as a pandas dataframe."
   ]
  },
  {
   "cell_type": "code",
   "execution_count": null,
   "metadata": {},
   "outputs": [],
   "source": [
    "#This is the url you will scrape in this exercise\n",
    "url = 'http://www.imdb.com/chart/top'"
   ]
  },
  {
   "cell_type": "code",
   "execution_count": null,
   "metadata": {},
   "outputs": [],
   "source": [
    "#your code"
   ]
  },
  {
   "cell_type": "markdown",
   "metadata": {},
   "source": [
    "#### Find the live weather report (temperature, wind speed, description and weather) of a given city."
   ]
  },
  {
   "cell_type": "code",
   "execution_count": null,
   "metadata": {},
   "outputs": [],
   "source": [
    "#https://openweathermap.org/current\n",
    "city = city=input('Enter the city:')\n",
    "url = 'http://api.openweathermap.org/data/2.5/weather?'+'q='+city+'&APPID=b35975e18dc93725acb092f7272cc6b8&units=metric'"
   ]
  },
  {
   "cell_type": "code",
   "execution_count": null,
   "metadata": {},
   "outputs": [],
   "source": [
    "# your code"
   ]
  },
  {
   "cell_type": "markdown",
   "metadata": {},
   "source": [
    "#### Book name,price and stock availability as a pandas dataframe."
   ]
  },
  {
   "cell_type": "code",
   "execution_count": null,
   "metadata": {},
   "outputs": [],
   "source": [
    "# This is the url you will scrape in this exercise. \n",
    "# It is a fictional bookstore created to be scraped. \n",
    "url = 'http://books.toscrape.com/'"
   ]
  },
  {
   "cell_type": "code",
   "execution_count": null,
   "metadata": {},
   "outputs": [],
   "source": [
    "#your code"
   ]
  }
 ],
 "metadata": {
  "kernelspec": {
   "display_name": "Python 3",
   "language": "python",
   "name": "python3"
  },
  "language_info": {
   "codemirror_mode": {
    "name": "ipython",
    "version": 3
   },
   "file_extension": ".py",
   "mimetype": "text/x-python",
   "name": "python",
   "nbconvert_exporter": "python",
   "pygments_lexer": "ipython3",
   "version": "3.7.5rc1"
  }
 },
 "nbformat": 4,
 "nbformat_minor": 2
}
